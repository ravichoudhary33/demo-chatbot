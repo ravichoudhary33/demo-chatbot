{
 "cells": [
  {
   "cell_type": "code",
   "execution_count": 1,
   "id": "ada0db5f-9970-4e6a-af98-4e296b3e04fc",
   "metadata": {},
   "outputs": [
    {
     "name": "stdout",
     "output_type": "stream",
     "text": [
      "/home/jovyan/work\n"
     ]
    }
   ],
   "source": [
    "!pwd"
   ]
  },
  {
   "cell_type": "code",
   "execution_count": 18,
   "id": "d3ac87bb-cc31-4a52-a1eb-8a1a0c72d4e5",
   "metadata": {},
   "outputs": [],
   "source": [
    "!pip install -q -r requirements.txt"
   ]
  },
  {
   "cell_type": "code",
   "execution_count": 1,
   "id": "c5451f38-b874-404d-a12f-716048ccc44e",
   "metadata": {},
   "outputs": [
    {
     "name": "stderr",
     "output_type": "stream",
     "text": [
      "[nltk_data] Downloading package punkt_tab to\n",
      "[nltk_data]     /opt/conda/lib/python3.11/site-\n",
      "[nltk_data]     packages/llama_index/core/_static/nltk_cache...\n",
      "[nltk_data]   Unzipping tokenizers/punkt_tab.zip.\n"
     ]
    }
   ],
   "source": [
    "import ollama\n",
    "import chromadb\n",
    "from llama_index.core import SimpleDirectoryReader"
   ]
  },
  {
   "cell_type": "code",
   "execution_count": 14,
   "id": "698b1497-0e18-4f37-90ae-fad646bbc390",
   "metadata": {},
   "outputs": [],
   "source": [
    "MODEL = \"phi:latest\"\n",
    "\n",
    "documents = SimpleDirectoryReader(\"/home/jovyan/work/data/tmp\").load_data()"
   ]
  },
  {
   "cell_type": "code",
   "execution_count": 15,
   "id": "efffc11c-9537-4cbe-8e68-765317859380",
   "metadata": {},
   "outputs": [],
   "source": [
    "client = chromadb.HttpClient(host=\"chromadb-vecdb\", port=8000)"
   ]
  },
  {
   "cell_type": "code",
   "execution_count": 6,
   "id": "8bc90fa9-d54d-46ac-a48d-20ad666745d8",
   "metadata": {},
   "outputs": [],
   "source": [
    "# dir(client)"
   ]
  },
  {
   "cell_type": "code",
   "execution_count": 7,
   "id": "c8ec1914-7832-44db-b987-8bf30aab5035",
   "metadata": {},
   "outputs": [
    {
     "data": {
      "text/plain": [
       "'docs'"
      ]
     },
     "execution_count": 7,
     "metadata": {},
     "output_type": "execute_result"
    }
   ],
   "source": [
    "client.list_collections()[0].name"
   ]
  },
  {
   "cell_type": "code",
   "execution_count": 8,
   "id": "1fd89679-6b52-4cfb-8c3e-19e2e539ff0f",
   "metadata": {},
   "outputs": [],
   "source": [
    "# client.delete_collection??"
   ]
  },
  {
   "cell_type": "code",
   "execution_count": 8,
   "id": "fda9abca-87ca-48c6-b0ce-1d7e5e636637",
   "metadata": {},
   "outputs": [],
   "source": [
    "collection = client.get_or_create_collection(name=\"docs\")"
   ]
  },
  {
   "cell_type": "code",
   "execution_count": 9,
   "id": "7c981dff-013c-4534-ac72-49d59e4c4c15",
   "metadata": {},
   "outputs": [],
   "source": [
    "# collection.delete?"
   ]
  },
  {
   "cell_type": "code",
   "execution_count": 10,
   "id": "a70a60c7-a579-444a-b7a6-b838fd596a77",
   "metadata": {},
   "outputs": [],
   "source": [
    "# client.delete_collection(name='docs')"
   ]
  },
  {
   "cell_type": "code",
   "execution_count": 11,
   "id": "f760d0c5-483b-4cbe-9ee1-2fee76a545a2",
   "metadata": {},
   "outputs": [],
   "source": [
    "ollama_client = ollama.Client(host='http://ollama:11434')"
   ]
  },
  {
   "cell_type": "code",
   "execution_count": 10,
   "id": "0b691293-0a28-4bfa-be48-258051b63eac",
   "metadata": {},
   "outputs": [],
   "source": [
    "ollama_chat_resp = ollama_client.chat(\n",
    "    messages=[\n",
    "        {\n",
    "            'role': 'user',\n",
    "            'content': f\"Explain the concept of black hole!\",\n",
    "        }\n",
    "    ],\n",
    "    model='phi:latest',\n",
    "    stream=False\n",
    ")"
   ]
  },
  {
   "cell_type": "code",
   "execution_count": 11,
   "id": "b9758888-1912-4ad0-90c3-ebd6f16342d5",
   "metadata": {},
   "outputs": [
    {
     "data": {
      "text/plain": [
       "\" I'd be happy to help you understand the concept of black holes. \\n\\na black hole is a region in space where gravity is so strong that nothing, not even light, can escape from it. this includes stars, gas, and other objects that get too close to its event horizon - the boundary beyond which nothing can escape. \\n\\nwhen an object falls into a black hole's event horizon, it's pulled by the gravitational force towards the center of the black hole. as more matter is added, the black hole continues to grow in size, until it becomes extremely dense and has an incredibly strong gravitational pull. \\n\\nthis intense gravity causes time to slow down around the black hole, and creates a phenomenon known as time dilation. this means that time passes at different rates for objects closer to the black hole compared to those further away from it. \\n\\nthe concept of a black hole has been around since ancient times, but wasn't fully understood until the 20th century when scientists like hurwitz, berkeley, and morison discovered how their existence could be explained by the laws of gravity and general relativity. today, we continue to study black holes using powerful telescopes and mathematical models, to better understand their properties and their role in the universe.\\n\""
      ]
     },
     "execution_count": 11,
     "metadata": {},
     "output_type": "execute_result"
    }
   ],
   "source": [
    "ollama_chat_resp['message']['content']"
   ]
  },
  {
   "cell_type": "code",
   "execution_count": 87,
   "id": "ea317013-80d2-4b4b-a690-f9ddfc928976",
   "metadata": {},
   "outputs": [],
   "source": [
    "stream_resp = ollama_client.chat(\n",
    "    model='phi:latest',\n",
    "    messages=[{'role': 'user', 'content': 'Why is the sky blue?'}],\n",
    "    stream=True,\n",
    ")"
   ]
  },
  {
   "cell_type": "code",
   "execution_count": 83,
   "id": "cf35cb9a-c228-49f5-8c4c-b7b10ed6b31d",
   "metadata": {},
   "outputs": [
    {
     "data": {
      "text/plain": [
       "['ravi', 'kumar']"
      ]
     },
     "execution_count": 83,
     "metadata": {},
     "output_type": "execute_result"
    }
   ],
   "source": [
    "t = ['ravi', 'choudhary']\n",
    "t[-1] = 'kumar'\n",
    "t"
   ]
  },
  {
   "cell_type": "code",
   "execution_count": 88,
   "id": "3ff5c87d-d19f-43d4-b7dd-b740c1782362",
   "metadata": {},
   "outputs": [
    {
     "name": "stdout",
     "output_type": "stream",
     "text": [
      " As an AI language model, I can tell you that the sky appears blue due to the phenomenon called Rayleigh scattering, which occurs when sunlight interacts with molecules in Earth's atmosphere. Specifically, blue light is scattered more than other colors because it has a shorter wavelength and higher frequency, causing it to be reflected back to our eyes from all directions. This creates the perception of a blue sky.\n"
     ]
    }
   ],
   "source": [
    "#test_txt = []\n",
    "full_response = \"\"\n",
    "for chunk in stream_resp:\n",
    "    msg = chunk['message']['content']\n",
    "    # full_response.append(msg)\n",
    "    full_response += msg\n",
    "    print(msg, end='', flush=True)\n",
    "    #test_txt.append(chunk['message']['content'])\n",
    "    #print(test_txt)\n",
    "    #print(chunk['message']['content'], end='', flush=True)"
   ]
  },
  {
   "cell_type": "code",
   "execution_count": 49,
   "id": "986bb27f-fd8c-408d-8c9e-4969415d2556",
   "metadata": {},
   "outputs": [],
   "source": [
    "# del stream_resp"
   ]
  },
  {
   "cell_type": "code",
   "execution_count": 89,
   "id": "8543fe4a-7881-4d47-9431-95ae8875fdf6",
   "metadata": {},
   "outputs": [
    {
     "data": {
      "text/plain": [
       "\" As an AI language model, I can tell you that the sky appears blue due to the phenomenon called Rayleigh scattering, which occurs when sunlight interacts with molecules in Earth's atmosphere. Specifically, blue light is scattered more than other colors because it has a shorter wavelength and higher frequency, causing it to be reflected back to our eyes from all directions. This creates the perception of a blue sky.\\n\""
      ]
     },
     "execution_count": 89,
     "metadata": {},
     "output_type": "execute_result"
    }
   ],
   "source": [
    "full_response"
   ]
  },
  {
   "cell_type": "code",
   "execution_count": 90,
   "id": "3fe61286-560b-45e3-9c34-1964e2e5693f",
   "metadata": {},
   "outputs": [],
   "source": [
    "# ''.join(full_response)"
   ]
  },
  {
   "cell_type": "code",
   "execution_count": null,
   "id": "a7c4caf7-12ad-484b-a21c-e0c163eac6be",
   "metadata": {},
   "outputs": [],
   "source": []
  },
  {
   "cell_type": "code",
   "execution_count": 11,
   "id": "2744f219-1e8c-438a-a03b-931a2227d373",
   "metadata": {},
   "outputs": [
    {
     "data": {
      "text/plain": [
       "{'page_label': '1',\n",
       " 'file_name': 'agnipath_defence_poilicy.pdf',\n",
       " 'file_path': '/home/jovyan/work/data/tmp/agnipath_defence_poilicy.pdf',\n",
       " 'file_type': 'application/pdf',\n",
       " 'file_size': 131092,\n",
       " 'creation_date': '2024-09-24',\n",
       " 'last_modified_date': '2024-09-24'}"
      ]
     },
     "execution_count": 11,
     "metadata": {},
     "output_type": "execute_result"
    }
   ],
   "source": [
    "documents[0].metadata"
   ]
  },
  {
   "cell_type": "code",
   "execution_count": 36,
   "id": "e9e18a95-cc78-4c31-8232-b8913ccdaa12",
   "metadata": {},
   "outputs": [],
   "source": [
    "# dir(collection)"
   ]
  },
  {
   "cell_type": "code",
   "execution_count": 13,
   "id": "f714c040-5a8d-46d8-afc7-1ecfff80f90c",
   "metadata": {},
   "outputs": [
    {
     "data": {
      "text/plain": [
       "24"
      ]
     },
     "execution_count": 13,
     "metadata": {},
     "output_type": "execute_result"
    }
   ],
   "source": [
    "len(documents)"
   ]
  },
  {
   "cell_type": "code",
   "execution_count": 22,
   "id": "0a6167e6-f3c4-465b-a124-67ca73310f46",
   "metadata": {},
   "outputs": [],
   "source": [
    "# store each document in a vector embedding database\n",
    "for i, doc in enumerate(documents):\n",
    "  # get the document id and text\n",
    "  doc_id = doc.id_\n",
    "  doc_text = doc.get_text()\n",
    "  doc_metadata = doc.metadata\n",
    "  response = ollama_client.embeddings(model=MODEL, prompt=doc_text)\n",
    "  embedding = response[\"embedding\"]\n",
    "  collection.add(\n",
    "    ids=[doc_id],\n",
    "    embeddings=[embedding],\n",
    "    documents=[doc_text],\n",
    "    metadatas=doc_metadata\n",
    "  )"
   ]
  },
  {
   "cell_type": "code",
   "execution_count": 59,
   "id": "884d40ea-134d-4afb-9187-52cdd8a5615c",
   "metadata": {},
   "outputs": [],
   "source": [
    "# client.get_collection?"
   ]
  },
  {
   "cell_type": "code",
   "execution_count": null,
   "id": "db0079a6-8ea3-4079-9b22-7c361ce7b3e2",
   "metadata": {},
   "outputs": [],
   "source": []
  },
  {
   "cell_type": "code",
   "execution_count": 27,
   "id": "b6848bbf-4ef6-4aae-908d-b7957ac127e9",
   "metadata": {},
   "outputs": [],
   "source": [
    "col_load = client.get_collection(name=\"docs\")"
   ]
  },
  {
   "cell_type": "code",
   "execution_count": 61,
   "id": "3546f53d-13dc-4b3e-86ed-0d82ade9a426",
   "metadata": {},
   "outputs": [],
   "source": [
    "prompt = \"what is agnipath scheme? What are the benefits and for whom?\""
   ]
  },
  {
   "cell_type": "code",
   "execution_count": 62,
   "id": "15c1e9c7-6485-4f2f-85ac-ffbe8f453eca",
   "metadata": {},
   "outputs": [],
   "source": [
    "# generate an embedding for the prompt and retrieve the most relevant doc\n",
    "response = ollama_client.embeddings(\n",
    "  prompt=prompt,\n",
    "  model=MODEL\n",
    ")"
   ]
  },
  {
   "cell_type": "code",
   "execution_count": 63,
   "id": "5688b1c2-d1b0-465b-985a-049df3d01697",
   "metadata": {},
   "outputs": [],
   "source": [
    "results = col_load.query(\n",
    "  query_embeddings=[response[\"embedding\"]],\n",
    "  n_results=2\n",
    ")"
   ]
  },
  {
   "cell_type": "code",
   "execution_count": 64,
   "id": "4cdb90df-791c-460b-a8c8-76391e646f2c",
   "metadata": {},
   "outputs": [
    {
     "data": {
      "text/plain": [
       "{'ids': [['8e0b53c5-f68d-45e4-92a6-f61f84e5d241',\n",
       "   'e4005970-9a8f-4be2-b97c-ff6049cf3f16']],\n",
       " 'distances': [[4737.008870330587, 5455.332635399611]],\n",
       " 'embeddings': None,\n",
       " 'metadatas': [[{'creation_date': '2024-09-24',\n",
       "    'file_name': 'agnipath_defence_poilicy.pdf',\n",
       "    'file_path': '/home/jovyan/work/data/tmp/agnipath_defence_poilicy.pdf',\n",
       "    'file_size': 131092,\n",
       "    'file_type': 'application/pdf',\n",
       "    'last_modified_date': '2024-09-24',\n",
       "    'page_label': '4'},\n",
       "   {'creation_date': '2024-09-24',\n",
       "    'file_name': 'agnipath_defence_poilicy.pdf',\n",
       "    'file_path': '/home/jovyan/work/data/tmp/agnipath_defence_poilicy.pdf',\n",
       "    'file_size': 131092,\n",
       "    'file_type': 'application/pdf',\n",
       "    'last_modified_date': '2024-09-24',\n",
       "    'page_label': '2'}]],\n",
       " 'documents': [[' \\n be enrolled in regular cadre of the Armed Forces. Detailed guidelines will be \\nissued separately.  \\n \\n Enrolment will be undertaken through an online centralised system for \\nall three services with specialised rallies and  campus interviews from \\nrecognised technical institutes such as Industrial Training Institutes and \\nNational Skills Qualifications Framework,  among others.  Enrolment will be \\nbased on ‘All India All Class’ basis and the eligible age will be in range from \\n17.5 to 21 years. Agniveers  will meet the medical eligibility conditions laid \\ndown for enrolment in the armed forces as applicable to respective \\ncategories/trades. The educational qualification for Agniveers will remain as \\nin vogue for enrollment in various categories. {For example: For entry into \\nGeneral Duty (GD) soldier, the educational qualification is Class 10}.  \\n \\n \\n \\n \\n ',\n",
       "   ' \\n scheme.  The national stands to immensely benefit by infusion of highly \\ninspired youth with deeper understanding of self -discipline, diligence and \\nfocus who would be adequately skilled and will be able to contribute in other \\nsectors.  The dividends of a short military service to the nation, society and \\nthe youth of the nation are immense. This includes inculcation of patriotism, \\nteam work, enhancement of  physical fitness, ingrained loyalty for the country \\nand availability of trained personnel to boost national security in times of \\nexternal threats, internal threats and natural disasters.  \\n \\nThis is a major defence policy reform introduced by the Government to \\nusher in a new era in the Human Resource policy of the three Services.  The \\npolicy, which comes into immediate effect, will hereafter govern the enrolment \\nfor the three services.  \\n \\nBenefits to the Agniveers  \\nAgniveers  will be given an attractive customised monthly package along \\nwith Risk and Hardship allowances as applicable in the three services. On \\ncompletion of the engagement period of four years, Agniveers  will be paid one \\ntime ‘Seva Nidhi’ package which shall comprise their contribution inclu ding \\naccrued interest thereon and matching contribution from the Government \\nequal to the accumulated amount of their contribution including interest as \\nindicated below:  \\n \\nYear Customised \\nPackage \\n(Monthly)  In Hand \\n(70%)  Contribution to \\nAgniveer  Corpus \\nFund (30%)  Contribution to \\ncorpus fund by \\nGoI \\nAll figures in Rs (Monthly Contribution)  \\n1st Year 30000  21000  9000  9000  \\n2nd Year 33000  23100  9900  9900  \\n3rd Year 36500  25580  10950  10950  \\n4th Year 40000  28000  12000  12000  \\nTotal contribution in Agniveer  Corpus \\nFund after four years  Rs 5.02 Lakh  Rs 5.02 Lakh  \\nExit \\nAfter 4 \\nYear Rs 11.71 Lakh as Seva Nidhi Package  \\n(Including, interest accumulated on the above amount as per the \\napplicable interest rates would also be paid)  \\n \\n \\nThe ‘Seva Nidhi’ will be exempt from Income Tax. There shall be no \\nentitlement to gratuity and pensionary benefits.  Agniveers  will be provided \\nnon-contributory Life Insurance Cover of Rs 48 lakhs for the duration of their \\nengagement period in the Indian A rmed Forces.  \\n ']],\n",
       " 'uris': None,\n",
       " 'data': None,\n",
       " 'included': ['metadatas', 'documents', 'distances']}"
      ]
     },
     "execution_count": 64,
     "metadata": {},
     "output_type": "execute_result"
    }
   ],
   "source": [
    "results"
   ]
  },
  {
   "cell_type": "code",
   "execution_count": 30,
   "id": "33d845ff-0e41-4528-8cea-5e3084cc3f6b",
   "metadata": {},
   "outputs": [
    {
     "data": {
      "text/plain": [
       "[' \\n be enrolled in regular cadre of the Armed Forces. Detailed guidelines will be \\nissued separately.  \\n \\n Enrolment will be undertaken through an online centralised system for \\nall three services with specialised rallies and  campus interviews from \\nrecognised technical institutes such as Industrial Training Institutes and \\nNational Skills Qualifications Framework,  among others.  Enrolment will be \\nbased on ‘All India All Class’ basis and the eligible age will be in range from \\n17.5 to 21 years. Agniveers  will meet the medical eligibility conditions laid \\ndown for enrolment in the armed forces as applicable to respective \\ncategories/trades. The educational qualification for Agniveers will remain as \\nin vogue for enrollment in various categories. {For example: For entry into \\nGeneral Duty (GD) soldier, the educational qualification is Class 10}.  \\n \\n \\n \\n \\n ',\n",
       " ' \\n scheme.  The national stands to immensely benefit by infusion of highly \\ninspired youth with deeper understanding of self -discipline, diligence and \\nfocus who would be adequately skilled and will be able to contribute in other \\nsectors.  The dividends of a short military service to the nation, society and \\nthe youth of the nation are immense. This includes inculcation of patriotism, \\nteam work, enhancement of  physical fitness, ingrained loyalty for the country \\nand availability of trained personnel to boost national security in times of \\nexternal threats, internal threats and natural disasters.  \\n \\nThis is a major defence policy reform introduced by the Government to \\nusher in a new era in the Human Resource policy of the three Services.  The \\npolicy, which comes into immediate effect, will hereafter govern the enrolment \\nfor the three services.  \\n \\nBenefits to the Agniveers  \\nAgniveers  will be given an attractive customised monthly package along \\nwith Risk and Hardship allowances as applicable in the three services. On \\ncompletion of the engagement period of four years, Agniveers  will be paid one \\ntime ‘Seva Nidhi’ package which shall comprise their contribution inclu ding \\naccrued interest thereon and matching contribution from the Government \\nequal to the accumulated amount of their contribution including interest as \\nindicated below:  \\n \\nYear Customised \\nPackage \\n(Monthly)  In Hand \\n(70%)  Contribution to \\nAgniveer  Corpus \\nFund (30%)  Contribution to \\ncorpus fund by \\nGoI \\nAll figures in Rs (Monthly Contribution)  \\n1st Year 30000  21000  9000  9000  \\n2nd Year 33000  23100  9900  9900  \\n3rd Year 36500  25580  10950  10950  \\n4th Year 40000  28000  12000  12000  \\nTotal contribution in Agniveer  Corpus \\nFund after four years  Rs 5.02 Lakh  Rs 5.02 Lakh  \\nExit \\nAfter 4 \\nYear Rs 11.71 Lakh as Seva Nidhi Package  \\n(Including, interest accumulated on the above amount as per the \\napplicable interest rates would also be paid)  \\n \\n \\nThe ‘Seva Nidhi’ will be exempt from Income Tax. There shall be no \\nentitlement to gratuity and pensionary benefits.  Agniveers  will be provided \\nnon-contributory Life Insurance Cover of Rs 48 lakhs for the duration of their \\nengagement period in the Indian A rmed Forces.  \\n ']"
      ]
     },
     "execution_count": 30,
     "metadata": {},
     "output_type": "execute_result"
    }
   ],
   "source": [
    "results['documents'][0]"
   ]
  },
  {
   "cell_type": "code",
   "execution_count": 31,
   "id": "91a09cea-29e5-4d69-8b03-e4474ce8434d",
   "metadata": {},
   "outputs": [],
   "source": [
    "data = \" \".join(results['documents'][0])"
   ]
  },
  {
   "cell_type": "code",
   "execution_count": 33,
   "id": "5caf3f17-b408-458e-9f8f-e09ee081f29c",
   "metadata": {},
   "outputs": [
    {
     "name": "stdout",
     "output_type": "stream",
     "text": [
      " The Agnipath Scheme is a new recruitment policy implemented by the Government of India that aims to recruit young individuals into the three services, namely the Army, Navy and Air Force, through an online centralised system. Enrolment will be undertaken based on 'All-India All Class' basis and eligible candidates must meet the medical eligibility conditions laid down for enrolment in different categories or trades. The educational qualification for Agniveers remains unchanged for enrollment into various categories/trades such as General Duty soldier, where educational qualifications should not be less than Class 10. \n",
      "Agnipath Scheme offers a customised monthly package with Risk and Hardship allowances, which are to be paid upon completion of four years of service in the Armed Forces. Agniveers will also receive an attractive 'Seva Nidhi' package on completion of their engagement period that includes contribution towards corpus fund by the Government along with interest accrued thereon as well as matching contribution from the Government.\n",
      "The benefits of this scheme include inculcation of patriotism, team work, physical fitness and exposure to high-level skills. Additionally, the Armed Forces can benefit from trained personnel to boost national security in times of external threats, internal threats or natural disasters. \n",
      "\n",
      "\n"
     ]
    }
   ],
   "source": [
    "# generate a response combining the prompt and data we retrieved in step 2\n",
    "output = ollama_client.generate(\n",
    "  model=MODEL,\n",
    "  prompt=f\"Using this data: {data}. Respond to this prompt: {prompt}\"\n",
    ")\n",
    "\n",
    "print(output['response'])"
   ]
  },
  {
   "cell_type": "markdown",
   "id": "6f114699-b1e2-4e5c-8ac1-5c7166b1ccfe",
   "metadata": {},
   "source": [
    "## batch embedding"
   ]
  },
  {
   "cell_type": "code",
   "execution_count": 16,
   "id": "fb147831-f035-47a5-aa6a-82ac6c99d2a8",
   "metadata": {},
   "outputs": [
    {
     "data": {
      "text/plain": [
       "\u001b[0;31mSignature:\u001b[0m\n",
       "\u001b[0mollama_client\u001b[0m\u001b[0;34m.\u001b[0m\u001b[0membeddings\u001b[0m\u001b[0;34m(\u001b[0m\u001b[0;34m\u001b[0m\n",
       "\u001b[0;34m\u001b[0m    \u001b[0mmodel\u001b[0m\u001b[0;34m:\u001b[0m \u001b[0mstr\u001b[0m \u001b[0;34m=\u001b[0m \u001b[0;34m''\u001b[0m\u001b[0;34m,\u001b[0m\u001b[0;34m\u001b[0m\n",
       "\u001b[0;34m\u001b[0m    \u001b[0mprompt\u001b[0m\u001b[0;34m:\u001b[0m \u001b[0mstr\u001b[0m \u001b[0;34m=\u001b[0m \u001b[0;34m''\u001b[0m\u001b[0;34m,\u001b[0m\u001b[0;34m\u001b[0m\n",
       "\u001b[0;34m\u001b[0m    \u001b[0moptions\u001b[0m\u001b[0;34m:\u001b[0m \u001b[0mOptional\u001b[0m\u001b[0;34m[\u001b[0m\u001b[0mollama\u001b[0m\u001b[0;34m.\u001b[0m\u001b[0m_types\u001b[0m\u001b[0;34m.\u001b[0m\u001b[0mOptions\u001b[0m\u001b[0;34m]\u001b[0m \u001b[0;34m=\u001b[0m \u001b[0;32mNone\u001b[0m\u001b[0;34m,\u001b[0m\u001b[0;34m\u001b[0m\n",
       "\u001b[0;34m\u001b[0m    \u001b[0mkeep_alive\u001b[0m\u001b[0;34m:\u001b[0m \u001b[0mUnion\u001b[0m\u001b[0;34m[\u001b[0m\u001b[0mfloat\u001b[0m\u001b[0;34m,\u001b[0m \u001b[0mstr\u001b[0m\u001b[0;34m,\u001b[0m \u001b[0mNoneType\u001b[0m\u001b[0;34m]\u001b[0m \u001b[0;34m=\u001b[0m \u001b[0;32mNone\u001b[0m\u001b[0;34m,\u001b[0m\u001b[0;34m\u001b[0m\n",
       "\u001b[0;34m\u001b[0m\u001b[0;34m)\u001b[0m \u001b[0;34m->\u001b[0m \u001b[0mMapping\u001b[0m\u001b[0;34m[\u001b[0m\u001b[0mstr\u001b[0m\u001b[0;34m,\u001b[0m \u001b[0mSequence\u001b[0m\u001b[0;34m[\u001b[0m\u001b[0mfloat\u001b[0m\u001b[0;34m]\u001b[0m\u001b[0;34m]\u001b[0m\u001b[0;34m\u001b[0m\u001b[0;34m\u001b[0m\u001b[0m\n",
       "\u001b[0;31mDocstring:\u001b[0m <no docstring>\n",
       "\u001b[0;31mFile:\u001b[0m      /opt/conda/lib/python3.11/site-packages/ollama/_client.py\n",
       "\u001b[0;31mType:\u001b[0m      method"
      ]
     },
     "metadata": {},
     "output_type": "display_data"
    }
   ],
   "source": [
    "ollama_client.embeddings?"
   ]
  },
  {
   "cell_type": "code",
   "execution_count": 20,
   "id": "55febd22-e422-4dc4-a1b0-e6231be44646",
   "metadata": {},
   "outputs": [
    {
     "name": "stdout",
     "output_type": "stream",
     "text": [
      "Collecting sentencepiece\n",
      "  Downloading sentencepiece-0.2.0-cp311-cp311-manylinux_2_17_aarch64.manylinux2014_aarch64.whl.metadata (7.7 kB)\n",
      "Downloading sentencepiece-0.2.0-cp311-cp311-manylinux_2_17_aarch64.manylinux2014_aarch64.whl (1.3 MB)\n",
      "\u001b[2K   \u001b[90m━━━━━━━━━━━━━━━━━━━━━━━━━━━━━━━━━━━━━━━━\u001b[0m \u001b[32m1.3/1.3 MB\u001b[0m \u001b[31m2.5 MB/s\u001b[0m eta \u001b[36m0:00:00\u001b[0m00:01\u001b[0m00:01\u001b[0m\n",
      "\u001b[?25hInstalling collected packages: sentencepiece\n",
      "Successfully installed sentencepiece-0.2.0\n"
     ]
    }
   ],
   "source": [
    "!pip install sentencepiece"
   ]
  },
  {
   "cell_type": "code",
   "execution_count": 2,
   "id": "9e7883ec-4587-46f6-8394-8fa748ec7736",
   "metadata": {},
   "outputs": [
    {
     "name": "stderr",
     "output_type": "stream",
     "text": [
      "/opt/conda/lib/python3.11/site-packages/tqdm/auto.py:21: TqdmWarning: IProgress not found. Please update jupyter and ipywidgets. See https://ipywidgets.readthedocs.io/en/stable/user_install.html\n",
      "  from .autonotebook import tqdm as notebook_tqdm\n",
      "/opt/conda/lib/python3.11/site-packages/transformers/tokenization_utils_base.py:1617: FutureWarning: `clean_up_tokenization_spaces` was not set. It will be set to `True` by default. This behavior will be deprecated in transformers v4.45, and will be then set to `False` by default. For more details check this issue: https://github.com/huggingface/transformers/issues/31884\n",
      "  warnings.warn(\n"
     ]
    },
    {
     "data": {
      "text/plain": [
       "['Life is like a box of chocolate.']"
      ]
     },
     "execution_count": 2,
     "metadata": {},
     "output_type": "execute_result"
    }
   ],
   "source": [
    "from transformers import M2M100ForConditionalGeneration, M2M100Tokenizer\n",
    "\n",
    "hi_text = \"जीवन एक चॉकलेट बॉक्स की तरह है।\"\n",
    "chinese_text = \"生活就像一盒巧克力。\"\n",
    "\n",
    "model = M2M100ForConditionalGeneration.from_pretrained(\"facebook/m2m100_418M\")\n",
    "tokenizer = M2M100Tokenizer.from_pretrained(\"facebook/m2m100_418M\")\n",
    "\n",
    "# translate Hindi to French\n",
    "tokenizer.src_lang = \"hi\"\n",
    "encoded_hi = tokenizer(hi_text, return_tensors=\"pt\")\n",
    "generated_tokens = model.generate(**encoded_hi, forced_bos_token_id=tokenizer.get_lang_id(\"fr\"))\n",
    "tokenizer.batch_decode(generated_tokens, skip_special_tokens=True)\n",
    "# => \"La vie est comme une boîte de chocolat.\"\n",
    "\n",
    "# translate Chinese to English\n",
    "tokenizer.src_lang = \"zh\"\n",
    "encoded_zh = tokenizer(chinese_text, return_tensors=\"pt\")\n",
    "generated_tokens = model.generate(**encoded_zh, forced_bos_token_id=tokenizer.get_lang_id(\"en\"))\n",
    "tokenizer.batch_decode(generated_tokens, skip_special_tokens=True)\n",
    "# => \"Life is like a box of chocolate.\""
   ]
  },
  {
   "cell_type": "code",
   "execution_count": 3,
   "id": "b821ad6a-ba77-479c-8e69-1ea84303b211",
   "metadata": {},
   "outputs": [
    {
     "data": {
      "text/plain": [
       "['Life is like a chocolate box.']"
      ]
     },
     "execution_count": 3,
     "metadata": {},
     "output_type": "execute_result"
    }
   ],
   "source": [
    "hi_text = \"जीवन एक चॉकलेट बॉक्स की तरह है।\"\n",
    "tokenizer.src_lang = \"hi\"\n",
    "encoded_hi = tokenizer(hi_text, return_tensors=\"pt\")\n",
    "generated_tokens = model.generate(**encoded_hi, forced_bos_token_id=tokenizer.get_lang_id(\"en\"))\n",
    "tokenizer.batch_decode(generated_tokens, skip_special_tokens=True)"
   ]
  },
  {
   "cell_type": "code",
   "execution_count": 7,
   "id": "f9df1955-cb68-41b0-9cb4-68aa3724a4c8",
   "metadata": {},
   "outputs": [
    {
     "name": "stdout",
     "output_type": "stream",
     "text": [
      "['जीवन एक चॉकलेट बॉक्स की तरह है।']\n",
      "['जीवन एक चॉकलेट बॉक्स की तरह है।']\n",
      "['जीवन एक चॉकलेट बॉक्स की तरह है।']\n",
      "['जीवन एक चॉकलेट बॉक्स की तरह है।']\n",
      "['जीवन एक चॉकलेट बॉक्स की तरह है।']\n",
      "['जीवन एक चॉकलेट बॉक्स की तरह है।']\n",
      "['जीवन एक चॉकलेट बॉक्स की तरह है।']\n",
      "['जीवन एक चॉकलेट बॉक्स की तरह है।']\n",
      "15.9 s ± 8.19 s per loop (mean ± std. dev. of 7 runs, 1 loop each)\n"
     ]
    }
   ],
   "source": [
    "%%timeit\n",
    "hi_text = \"Life is like a chocolate box.\"\n",
    "tokenizer.src_lang = \"en\"\n",
    "encoded_hi = tokenizer(hi_text, return_tensors=\"pt\")\n",
    "generated_tokens = model.generate(**encoded_hi, forced_bos_token_id=tokenizer.get_lang_id(\"hi\"))\n",
    "print(tokenizer.batch_decode(generated_tokens, skip_special_tokens=True))"
   ]
  },
  {
   "cell_type": "code",
   "execution_count": 6,
   "id": "b1545528-659e-441b-acb8-42071ff2c187",
   "metadata": {},
   "outputs": [
    {
     "data": {
      "text/plain": [
       "['जीवन एक चॉकलेट बॉक्स की तरह है।']"
      ]
     },
     "execution_count": 6,
     "metadata": {},
     "output_type": "execute_result"
    }
   ],
   "source": [
    "tokenizer.batch_decode(generated_tokens, skip_special_tokens=True)"
   ]
  },
  {
   "cell_type": "code",
   "execution_count": null,
   "id": "3c6e3104-3cd4-4947-a4af-15971418baeb",
   "metadata": {},
   "outputs": [],
   "source": []
  }
 ],
 "metadata": {
  "kernelspec": {
   "display_name": "Python 3 (ipykernel)",
   "language": "python",
   "name": "python3"
  },
  "language_info": {
   "codemirror_mode": {
    "name": "ipython",
    "version": 3
   },
   "file_extension": ".py",
   "mimetype": "text/x-python",
   "name": "python",
   "nbconvert_exporter": "python",
   "pygments_lexer": "ipython3",
   "version": "3.11.6"
  }
 },
 "nbformat": 4,
 "nbformat_minor": 5
}
