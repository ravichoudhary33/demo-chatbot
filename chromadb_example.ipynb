{
 "cells": [
  {
   "cell_type": "code",
   "execution_count": 1,
   "id": "ada0db5f-9970-4e6a-af98-4e296b3e04fc",
   "metadata": {},
   "outputs": [
    {
     "name": "stdout",
     "output_type": "stream",
     "text": [
      "/home/jovyan/work\n"
     ]
    }
   ],
   "source": [
    "!pwd"
   ]
  },
  {
   "cell_type": "code",
   "execution_count": 18,
   "id": "d3ac87bb-cc31-4a52-a1eb-8a1a0c72d4e5",
   "metadata": {},
   "outputs": [],
   "source": [
    "!pip install -q -r requirements.txt"
   ]
  },
  {
   "cell_type": "code",
   "execution_count": 1,
   "id": "c5451f38-b874-404d-a12f-716048ccc44e",
   "metadata": {},
   "outputs": [
    {
     "name": "stderr",
     "output_type": "stream",
     "text": [
      "[nltk_data] Downloading package punkt_tab to\n",
      "[nltk_data]     /opt/conda/lib/python3.11/site-\n",
      "[nltk_data]     packages/llama_index/core/_static/nltk_cache...\n",
      "[nltk_data]   Unzipping tokenizers/punkt_tab.zip.\n"
     ]
    }
   ],
   "source": [
    "import ollama\n",
    "import chromadb\n",
    "from llama_index.core import SimpleDirectoryReader"
   ]
  },
  {
   "cell_type": "code",
   "execution_count": 14,
   "id": "698b1497-0e18-4f37-90ae-fad646bbc390",
   "metadata": {},
   "outputs": [],
   "source": [
    "MODEL = \"phi:latest\"\n",
    "\n",
    "documents = SimpleDirectoryReader(\"/home/jovyan/work/data/tmp\").load_data()"
   ]
  },
  {
   "cell_type": "code",
   "execution_count": 15,
   "id": "efffc11c-9537-4cbe-8e68-765317859380",
   "metadata": {},
   "outputs": [],
   "source": [
    "client = chromadb.HttpClient(host=\"chromadb-vecdb\", port=8000)"
   ]
  },
  {
   "cell_type": "code",
   "execution_count": 6,
   "id": "8bc90fa9-d54d-46ac-a48d-20ad666745d8",
   "metadata": {},
   "outputs": [],
   "source": [
    "# dir(client)"
   ]
  },
  {
   "cell_type": "code",
   "execution_count": 7,
   "id": "c8ec1914-7832-44db-b987-8bf30aab5035",
   "metadata": {},
   "outputs": [
    {
     "data": {
      "text/plain": [
       "'docs'"
      ]
     },
     "execution_count": 7,
     "metadata": {},
     "output_type": "execute_result"
    }
   ],
   "source": [
    "client.list_collections()[0].name"
   ]
  },
  {
   "cell_type": "code",
   "execution_count": 8,
   "id": "1fd89679-6b52-4cfb-8c3e-19e2e539ff0f",
   "metadata": {},
   "outputs": [],
   "source": [
    "# client.delete_collection??"
   ]
  },
  {
   "cell_type": "code",
   "execution_count": 8,
   "id": "fda9abca-87ca-48c6-b0ce-1d7e5e636637",
   "metadata": {},
   "outputs": [],
   "source": [
    "collection = client.get_or_create_collection(name=\"docs\")"
   ]
  },
  {
   "cell_type": "code",
   "execution_count": 9,
   "id": "7c981dff-013c-4534-ac72-49d59e4c4c15",
   "metadata": {},
   "outputs": [],
   "source": [
    "# collection.delete?"
   ]
  },
  {
   "cell_type": "code",
   "execution_count": 10,
   "id": "a70a60c7-a579-444a-b7a6-b838fd596a77",
   "metadata": {},
   "outputs": [],
   "source": [
    "# client.delete_collection(name='docs')"
   ]
  },
  {
   "cell_type": "code",
   "execution_count": 11,
   "id": "f760d0c5-483b-4cbe-9ee1-2fee76a545a2",
   "metadata": {},
   "outputs": [],
   "source": [
    "ollama_client = ollama.Client(host='http://ollama:11434')"
   ]
  },
  {
   "cell_type": "code",
   "execution_count": 10,
   "id": "0b691293-0a28-4bfa-be48-258051b63eac",
   "metadata": {},
   "outputs": [],
   "source": [
    "ollama_chat_resp = ollama_client.chat(\n",
    "    messages=[\n",
    "        {\n",
    "            'role': 'user',\n",
    "            'content': f\"Explain the concept of black hole!\",\n",
    "        }\n",
    "    ],\n",
    "    model='phi:latest',\n",
    "    stream=False\n",
    ")"
   ]
  },
  {
   "cell_type": "code",
   "execution_count": 11,
   "id": "b9758888-1912-4ad0-90c3-ebd6f16342d5",
   "metadata": {},
   "outputs": [
    {
     "data": {
      "text/plain": [
       "\" I'd be happy to help you understand the concept of black holes. \\n\\na black hole is a region in space where gravity is so strong that nothing, not even light, can escape from it. this includes stars, gas, and other objects that get too close to its event horizon - the boundary beyond which nothing can escape. \\n\\nwhen an object falls into a black hole's event horizon, it's pulled by the gravitational force towards the center of the black hole. as more matter is added, the black hole continues to grow in size, until it becomes extremely dense and has an incredibly strong gravitational pull. \\n\\nthis intense gravity causes time to slow down around the black hole, and creates a phenomenon known as time dilation. this means that time passes at different rates for objects closer to the black hole compared to those further away from it. \\n\\nthe concept of a black hole has been around since ancient times, but wasn't fully understood until the 20th century when scientists like hurwitz, berkeley, and morison discovered how their existence could be explained by the laws of gravity and general relativity. today, we continue to study black holes using powerful telescopes and mathematical models, to better understand their properties and their role in the universe.\\n\""
      ]
     },
     "execution_count": 11,
     "metadata": {},
     "output_type": "execute_result"
    }
   ],
   "source": [
    "ollama_chat_resp['message']['content']"
   ]
  },
  {
   "cell_type": "code",
   "execution_count": 87,
   "id": "ea317013-80d2-4b4b-a690-f9ddfc928976",
   "metadata": {},
   "outputs": [],
   "source": [
    "stream_resp = ollama_client.chat(\n",
    "    model='phi:latest',\n",
    "    messages=[{'role': 'user', 'content': 'Why is the sky blue?'}],\n",
    "    stream=True,\n",
    ")"
   ]
  },
  {
   "cell_type": "code",
   "execution_count": 83,
   "id": "cf35cb9a-c228-49f5-8c4c-b7b10ed6b31d",
   "metadata": {},
   "outputs": [
    {
     "data": {
      "text/plain": [
       "['ravi', 'kumar']"
      ]
     },
     "execution_count": 83,
     "metadata": {},
     "output_type": "execute_result"
    }
   ],
   "source": [
    "t = ['ravi', 'choudhary']\n",
    "t[-1] = 'kumar'\n",
    "t"
   ]
  },
  {
   "cell_type": "code",
   "execution_count": 88,
   "id": "3ff5c87d-d19f-43d4-b7dd-b740c1782362",
   "metadata": {},
   "outputs": [
    {
     "name": "stdout",
     "output_type": "stream",
     "text": [
      " As an AI language model, I can tell you that the sky appears blue due to the phenomenon called Rayleigh scattering, which occurs when sunlight interacts with molecules in Earth's atmosphere. Specifically, blue light is scattered more than other colors because it has a shorter wavelength and higher frequency, causing it to be reflected back to our eyes from all directions. This creates the perception of a blue sky.\n"
     ]
    }
   ],
   "source": [
    "#test_txt = []\n",
    "full_response = \"\"\n",
    "for chunk in stream_resp:\n",
    "    msg = chunk['message']['content']\n",
    "    # full_response.append(msg)\n",
    "    full_response += msg\n",
    "    print(msg, end='', flush=True)\n",
    "    #test_txt.append(chunk['message']['content'])\n",
    "    #print(test_txt)\n",
    "    #print(chunk['message']['content'], end='', flush=True)"
   ]
  },
  {
   "cell_type": "code",
   "execution_count": 49,
   "id": "986bb27f-fd8c-408d-8c9e-4969415d2556",
   "metadata": {},
   "outputs": [],
   "source": [
    "# del stream_resp"
   ]
  },
  {
   "cell_type": "code",
   "execution_count": 89,
   "id": "8543fe4a-7881-4d47-9431-95ae8875fdf6",
   "metadata": {},
   "outputs": [
    {
     "data": {
      "text/plain": [
       "\" As an AI language model, I can tell you that the sky appears blue due to the phenomenon called Rayleigh scattering, which occurs when sunlight interacts with molecules in Earth's atmosphere. Specifically, blue light is scattered more than other colors because it has a shorter wavelength and higher frequency, causing it to be reflected back to our eyes from all directions. This creates the perception of a blue sky.\\n\""
      ]
     },
     "execution_count": 89,
     "metadata": {},
     "output_type": "execute_result"
    }
   ],
   "source": [
    "full_response"
   ]
  },
  {
   "cell_type": "code",
   "execution_count": 90,
   "id": "3fe61286-560b-45e3-9c34-1964e2e5693f",
   "metadata": {},
   "outputs": [],
   "source": [
    "# ''.join(full_response)"
   ]
  },
  {
   "cell_type": "code",
   "execution_count": null,
   "id": "a7c4caf7-12ad-484b-a21c-e0c163eac6be",
   "metadata": {},
   "outputs": [],
   "source": []
  },
  {
   "cell_type": "code",
   "execution_count": 11,
   "id": "2744f219-1e8c-438a-a03b-931a2227d373",
   "metadata": {},
   "outputs": [
    {
     "data": {
      "text/plain": [
       "{'page_label': '1',\n",
       " 'file_name': 'agnipath_defence_poilicy.pdf',\n",
       " 'file_path': '/home/jovyan/work/data/tmp/agnipath_defence_poilicy.pdf',\n",
       " 'file_type': 'application/pdf',\n",
       " 'file_size': 131092,\n",
       " 'creation_date': '2024-09-24',\n",
       " 'last_modified_date': '2024-09-24'}"
      ]
     },
     "execution_count": 11,
     "metadata": {},
     "output_type": "execute_result"
    }
   ],
   "source": [
    "documents[0].metadata"
   ]
  },
  {
   "cell_type": "code",
   "execution_count": 36,
   "id": "e9e18a95-cc78-4c31-8232-b8913ccdaa12",
   "metadata": {},
   "outputs": [],
   "source": [
    "# dir(collection)"
   ]
  },
  {
   "cell_type": "code",
   "execution_count": 13,
   "id": "f714c040-5a8d-46d8-afc7-1ecfff80f90c",
   "metadata": {},
   "outputs": [
    {
     "data": {
      "text/plain": [
       "24"
      ]
     },
     "execution_count": 13,
     "metadata": {},
     "output_type": "execute_result"
    }
   ],
   "source": [
    "len(documents)"
   ]
  },
  {
   "cell_type": "code",
   "execution_count": 22,
   "id": "0a6167e6-f3c4-465b-a124-67ca73310f46",
   "metadata": {},
   "outputs": [],
   "source": [
    "# store each document in a vector embedding database\n",
    "for i, doc in enumerate(documents):\n",
    "  # get the document id and text\n",
    "  doc_id = doc.id_\n",
    "  doc_text = doc.get_text()\n",
    "  doc_metadata = doc.metadata\n",
    "  response = ollama_client.embeddings(model=MODEL, prompt=doc_text)\n",
    "  embedding = response[\"embedding\"]\n",
    "  collection.add(\n",
    "    ids=[doc_id],\n",
    "    embeddings=[embedding],\n",
    "    documents=[doc_text],\n",
    "    metadatas=doc_metadata\n",
    "  )"
   ]
  },
  {
   "cell_type": "code",
   "execution_count": 59,
   "id": "884d40ea-134d-4afb-9187-52cdd8a5615c",
   "metadata": {},
   "outputs": [],
   "source": [
    "# client.get_collection?"
   ]
  },
  {
   "cell_type": "code",
   "execution_count": null,
   "id": "db0079a6-8ea3-4079-9b22-7c361ce7b3e2",
   "metadata": {},
   "outputs": [],
   "source": []
  },
  {
   "cell_type": "code",
   "execution_count": 27,
   "id": "b6848bbf-4ef6-4aae-908d-b7957ac127e9",
   "metadata": {},
   "outputs": [],
   "source": [
    "col_load = client.get_collection(name=\"docs\")"
   ]
  },
  {
   "cell_type": "code",
   "execution_count": 61,
   "id": "3546f53d-13dc-4b3e-86ed-0d82ade9a426",
   "metadata": {},
   "outputs": [],
   "source": [
    "prompt = \"what is agnipath scheme? What are the benefits and for whom?\""
   ]
  },
  {
   "cell_type": "code",
   "execution_count": 62,
   "id": "15c1e9c7-6485-4f2f-85ac-ffbe8f453eca",
   "metadata": {},
   "outputs": [],
   "source": [
    "# generate an embedding for the prompt and retrieve the most relevant doc\n",
    "response = ollama_client.embeddings(\n",
    "  prompt=prompt,\n",
    "  model=MODEL\n",
    ")"
   ]
  },
  {
   "cell_type": "code",
   "execution_count": 63,
   "id": "5688b1c2-d1b0-465b-985a-049df3d01697",
   "metadata": {},
   "outputs": [],
   "source": [
    "results = col_load.query(\n",
    "  query_embeddings=[response[\"embedding\"]],\n",
    "  n_results=2\n",
    ")"
   ]
  },
  {
   "cell_type": "code",
   "execution_count": 64,
   "id": "4cdb90df-791c-460b-a8c8-76391e646f2c",
   "metadata": {},
   "outputs": [
    {
     "data": {
      "text/plain": [
       "{'ids': [['8e0b53c5-f68d-45e4-92a6-f61f84e5d241',\n",
       "   'e4005970-9a8f-4be2-b97c-ff6049cf3f16']],\n",
       " 'distances': [[4737.008870330587, 5455.332635399611]],\n",
       " 'embeddings': None,\n",
       " 'metadatas': [[{'creation_date': '2024-09-24',\n",
       "    'file_name': 'agnipath_defence_poilicy.pdf',\n",
       "    'file_path': '/home/jovyan/work/data/tmp/agnipath_defence_poilicy.pdf',\n",
       "    'file_size': 131092,\n",
       "    'file_type': 'application/pdf',\n",
       "    'last_modified_date': '2024-09-24',\n",
       "    'page_label': '4'},\n",
       "   {'creation_date': '2024-09-24',\n",
       "    'file_name': 'agnipath_defence_poilicy.pdf',\n",
       "    'file_path': '/home/jovyan/work/data/tmp/agnipath_defence_poilicy.pdf',\n",
       "    'file_size': 131092,\n",
       "    'file_type': 'application/pdf',\n",
       "    'last_modified_date': '2024-09-24',\n",
       "    'page_label': '2'}]],\n",
       " 'documents': [[' \\n be enrolled in regular cadre of the Armed Forces. Detailed guidelines will be \\nissued separately.  \\n \\n Enrolment will be undertaken through an online centralised system for \\nall three services with specialised rallies and  campus interviews from \\nrecognised technical institutes such as Industrial Training Institutes and \\nNational Skills Qualifications Framework,  among others.  Enrolment will be \\nbased on ‘All India All Class’ basis and the eligible age will be in range from \\n17.5 to 21 years. Agniveers  will meet the medical eligibility conditions laid \\ndown for enrolment in the armed forces as applicable to respective \\ncategories/trades. The educational qualification for Agniveers will remain as \\nin vogue for enrollment in various categories. {For example: For entry into \\nGeneral Duty (GD) soldier, the educational qualification is Class 10}.  \\n \\n \\n \\n \\n ',\n",
       "   ' \\n scheme.  The national stands to immensely benefit by infusion of highly \\ninspired youth with deeper understanding of self -discipline, diligence and \\nfocus who would be adequately skilled and will be able to contribute in other \\nsectors.  The dividends of a short military service to the nation, society and \\nthe youth of the nation are immense. This includes inculcation of patriotism, \\nteam work, enhancement of  physical fitness, ingrained loyalty for the country \\nand availability of trained personnel to boost national security in times of \\nexternal threats, internal threats and natural disasters.  \\n \\nThis is a major defence policy reform introduced by the Government to \\nusher in a new era in the Human Resource policy of the three Services.  The \\npolicy, which comes into immediate effect, will hereafter govern the enrolment \\nfor the three services.  \\n \\nBenefits to the Agniveers  \\nAgniveers  will be given an attractive customised monthly package along \\nwith Risk and Hardship allowances as applicable in the three services. On \\ncompletion of the engagement period of four years, Agniveers  will be paid one \\ntime ‘Seva Nidhi’ package which shall comprise their contribution inclu ding \\naccrued interest thereon and matching contribution from the Government \\nequal to the accumulated amount of their contribution including interest as \\nindicated below:  \\n \\nYear Customised \\nPackage \\n(Monthly)  In Hand \\n(70%)  Contribution to \\nAgniveer  Corpus \\nFund (30%)  Contribution to \\ncorpus fund by \\nGoI \\nAll figures in Rs (Monthly Contribution)  \\n1st Year 30000  21000  9000  9000  \\n2nd Year 33000  23100  9900  9900  \\n3rd Year 36500  25580  10950  10950  \\n4th Year 40000  28000  12000  12000  \\nTotal contribution in Agniveer  Corpus \\nFund after four years  Rs 5.02 Lakh  Rs 5.02 Lakh  \\nExit \\nAfter 4 \\nYear Rs 11.71 Lakh as Seva Nidhi Package  \\n(Including, interest accumulated on the above amount as per the \\napplicable interest rates would also be paid)  \\n \\n \\nThe ‘Seva Nidhi’ will be exempt from Income Tax. There shall be no \\nentitlement to gratuity and pensionary benefits.  Agniveers  will be provided \\nnon-contributory Life Insurance Cover of Rs 48 lakhs for the duration of their \\nengagement period in the Indian A rmed Forces.  \\n ']],\n",
       " 'uris': None,\n",
       " 'data': None,\n",
       " 'included': ['metadatas', 'documents', 'distances']}"
      ]
     },
     "execution_count": 64,
     "metadata": {},
     "output_type": "execute_result"
    }
   ],
   "source": [
    "results"
   ]
  },
  {
   "cell_type": "code",
   "execution_count": 30,
   "id": "33d845ff-0e41-4528-8cea-5e3084cc3f6b",
   "metadata": {},
   "outputs": [
    {
     "data": {
      "text/plain": [
       "[' \\n be enrolled in regular cadre of the Armed Forces. Detailed guidelines will be \\nissued separately.  \\n \\n Enrolment will be undertaken through an online centralised system for \\nall three services with specialised rallies and  campus interviews from \\nrecognised technical institutes such as Industrial Training Institutes and \\nNational Skills Qualifications Framework,  among others.  Enrolment will be \\nbased on ‘All India All Class’ basis and the eligible age will be in range from \\n17.5 to 21 years. Agniveers  will meet the medical eligibility conditions laid \\ndown for enrolment in the armed forces as applicable to respective \\ncategories/trades. The educational qualification for Agniveers will remain as \\nin vogue for enrollment in various categories. {For example: For entry into \\nGeneral Duty (GD) soldier, the educational qualification is Class 10}.  \\n \\n \\n \\n \\n ',\n",
       " ' \\n scheme.  The national stands to immensely benefit by infusion of highly \\ninspired youth with deeper understanding of self -discipline, diligence and \\nfocus who would be adequately skilled and will be able to contribute in other \\nsectors.  The dividends of a short military service to the nation, society and \\nthe youth of the nation are immense. This includes inculcation of patriotism, \\nteam work, enhancement of  physical fitness, ingrained loyalty for the country \\nand availability of trained personnel to boost national security in times of \\nexternal threats, internal threats and natural disasters.  \\n \\nThis is a major defence policy reform introduced by the Government to \\nusher in a new era in the Human Resource policy of the three Services.  The \\npolicy, which comes into immediate effect, will hereafter govern the enrolment \\nfor the three services.  \\n \\nBenefits to the Agniveers  \\nAgniveers  will be given an attractive customised monthly package along \\nwith Risk and Hardship allowances as applicable in the three services. On \\ncompletion of the engagement period of four years, Agniveers  will be paid one \\ntime ‘Seva Nidhi’ package which shall comprise their contribution inclu ding \\naccrued interest thereon and matching contribution from the Government \\nequal to the accumulated amount of their contribution including interest as \\nindicated below:  \\n \\nYear Customised \\nPackage \\n(Monthly)  In Hand \\n(70%)  Contribution to \\nAgniveer  Corpus \\nFund (30%)  Contribution to \\ncorpus fund by \\nGoI \\nAll figures in Rs (Monthly Contribution)  \\n1st Year 30000  21000  9000  9000  \\n2nd Year 33000  23100  9900  9900  \\n3rd Year 36500  25580  10950  10950  \\n4th Year 40000  28000  12000  12000  \\nTotal contribution in Agniveer  Corpus \\nFund after four years  Rs 5.02 Lakh  Rs 5.02 Lakh  \\nExit \\nAfter 4 \\nYear Rs 11.71 Lakh as Seva Nidhi Package  \\n(Including, interest accumulated on the above amount as per the \\napplicable interest rates would also be paid)  \\n \\n \\nThe ‘Seva Nidhi’ will be exempt from Income Tax. There shall be no \\nentitlement to gratuity and pensionary benefits.  Agniveers  will be provided \\nnon-contributory Life Insurance Cover of Rs 48 lakhs for the duration of their \\nengagement period in the Indian A rmed Forces.  \\n ']"
      ]
     },
     "execution_count": 30,
     "metadata": {},
     "output_type": "execute_result"
    }
   ],
   "source": [
    "results['documents'][0]"
   ]
  },
  {
   "cell_type": "code",
   "execution_count": 31,
   "id": "91a09cea-29e5-4d69-8b03-e4474ce8434d",
   "metadata": {},
   "outputs": [],
   "source": [
    "data = \" \".join(results['documents'][0])"
   ]
  },
  {
   "cell_type": "code",
   "execution_count": 33,
   "id": "5caf3f17-b408-458e-9f8f-e09ee081f29c",
   "metadata": {},
   "outputs": [
    {
     "name": "stdout",
     "output_type": "stream",
     "text": [
      " The Agnipath Scheme is a new recruitment policy implemented by the Government of India that aims to recruit young individuals into the three services, namely the Army, Navy and Air Force, through an online centralised system. Enrolment will be undertaken based on 'All-India All Class' basis and eligible candidates must meet the medical eligibility conditions laid down for enrolment in different categories or trades. The educational qualification for Agniveers remains unchanged for enrollment into various categories/trades such as General Duty soldier, where educational qualifications should not be less than Class 10. \n",
      "Agnipath Scheme offers a customised monthly package with Risk and Hardship allowances, which are to be paid upon completion of four years of service in the Armed Forces. Agniveers will also receive an attractive 'Seva Nidhi' package on completion of their engagement period that includes contribution towards corpus fund by the Government along with interest accrued thereon as well as matching contribution from the Government.\n",
      "The benefits of this scheme include inculcation of patriotism, team work, physical fitness and exposure to high-level skills. Additionally, the Armed Forces can benefit from trained personnel to boost national security in times of external threats, internal threats or natural disasters. \n",
      "\n",
      "\n"
     ]
    }
   ],
   "source": [
    "# generate a response combining the prompt and data we retrieved in step 2\n",
    "output = ollama_client.generate(\n",
    "  model=MODEL,\n",
    "  prompt=f\"Using this data: {data}. Respond to this prompt: {prompt}\"\n",
    ")\n",
    "\n",
    "print(output['response'])"
   ]
  },
  {
   "cell_type": "markdown",
   "id": "6f114699-b1e2-4e5c-8ac1-5c7166b1ccfe",
   "metadata": {},
   "source": [
    "## batch embedding"
   ]
  },
  {
   "cell_type": "code",
   "execution_count": 16,
   "id": "fb147831-f035-47a5-aa6a-82ac6c99d2a8",
   "metadata": {},
   "outputs": [
    {
     "data": {
      "text/plain": [
       "\u001b[0;31mSignature:\u001b[0m\n",
       "\u001b[0mollama_client\u001b[0m\u001b[0;34m.\u001b[0m\u001b[0membeddings\u001b[0m\u001b[0;34m(\u001b[0m\u001b[0;34m\u001b[0m\n",
       "\u001b[0;34m\u001b[0m    \u001b[0mmodel\u001b[0m\u001b[0;34m:\u001b[0m \u001b[0mstr\u001b[0m \u001b[0;34m=\u001b[0m \u001b[0;34m''\u001b[0m\u001b[0;34m,\u001b[0m\u001b[0;34m\u001b[0m\n",
       "\u001b[0;34m\u001b[0m    \u001b[0mprompt\u001b[0m\u001b[0;34m:\u001b[0m \u001b[0mstr\u001b[0m \u001b[0;34m=\u001b[0m \u001b[0;34m''\u001b[0m\u001b[0;34m,\u001b[0m\u001b[0;34m\u001b[0m\n",
       "\u001b[0;34m\u001b[0m    \u001b[0moptions\u001b[0m\u001b[0;34m:\u001b[0m \u001b[0mOptional\u001b[0m\u001b[0;34m[\u001b[0m\u001b[0mollama\u001b[0m\u001b[0;34m.\u001b[0m\u001b[0m_types\u001b[0m\u001b[0;34m.\u001b[0m\u001b[0mOptions\u001b[0m\u001b[0;34m]\u001b[0m \u001b[0;34m=\u001b[0m \u001b[0;32mNone\u001b[0m\u001b[0;34m,\u001b[0m\u001b[0;34m\u001b[0m\n",
       "\u001b[0;34m\u001b[0m    \u001b[0mkeep_alive\u001b[0m\u001b[0;34m:\u001b[0m \u001b[0mUnion\u001b[0m\u001b[0;34m[\u001b[0m\u001b[0mfloat\u001b[0m\u001b[0;34m,\u001b[0m \u001b[0mstr\u001b[0m\u001b[0;34m,\u001b[0m \u001b[0mNoneType\u001b[0m\u001b[0;34m]\u001b[0m \u001b[0;34m=\u001b[0m \u001b[0;32mNone\u001b[0m\u001b[0;34m,\u001b[0m\u001b[0;34m\u001b[0m\n",
       "\u001b[0;34m\u001b[0m\u001b[0;34m)\u001b[0m \u001b[0;34m->\u001b[0m \u001b[0mMapping\u001b[0m\u001b[0;34m[\u001b[0m\u001b[0mstr\u001b[0m\u001b[0;34m,\u001b[0m \u001b[0mSequence\u001b[0m\u001b[0;34m[\u001b[0m\u001b[0mfloat\u001b[0m\u001b[0;34m]\u001b[0m\u001b[0;34m]\u001b[0m\u001b[0;34m\u001b[0m\u001b[0;34m\u001b[0m\u001b[0m\n",
       "\u001b[0;31mDocstring:\u001b[0m <no docstring>\n",
       "\u001b[0;31mFile:\u001b[0m      /opt/conda/lib/python3.11/site-packages/ollama/_client.py\n",
       "\u001b[0;31mType:\u001b[0m      method"
      ]
     },
     "metadata": {},
     "output_type": "display_data"
    }
   ],
   "source": [
    "ollama_client.embeddings?"
   ]
  },
  {
   "cell_type": "code",
   "execution_count": 20,
   "id": "55febd22-e422-4dc4-a1b0-e6231be44646",
   "metadata": {},
   "outputs": [
    {
     "name": "stdout",
     "output_type": "stream",
     "text": [
      "Collecting sentencepiece\n",
      "  Downloading sentencepiece-0.2.0-cp311-cp311-manylinux_2_17_aarch64.manylinux2014_aarch64.whl.metadata (7.7 kB)\n",
      "Downloading sentencepiece-0.2.0-cp311-cp311-manylinux_2_17_aarch64.manylinux2014_aarch64.whl (1.3 MB)\n",
      "\u001b[2K   \u001b[90m━━━━━━━━━━━━━━━━━━━━━━━━━━━━━━━━━━━━━━━━\u001b[0m \u001b[32m1.3/1.3 MB\u001b[0m \u001b[31m2.5 MB/s\u001b[0m eta \u001b[36m0:00:00\u001b[0m00:01\u001b[0m00:01\u001b[0m\n",
      "\u001b[?25hInstalling collected packages: sentencepiece\n",
      "Successfully installed sentencepiece-0.2.0\n"
     ]
    }
   ],
   "source": [
    "!pip install sentencepiece"
   ]
  },
  {
   "cell_type": "code",
   "execution_count": 3,
   "id": "9e7883ec-4587-46f6-8394-8fa748ec7736",
   "metadata": {},
   "outputs": [
    {
     "name": "stderr",
     "output_type": "stream",
     "text": [
      "/opt/conda/lib/python3.11/site-packages/tqdm/auto.py:21: TqdmWarning: IProgress not found. Please update jupyter and ipywidgets. See https://ipywidgets.readthedocs.io/en/stable/user_install.html\n",
      "  from .autonotebook import tqdm as notebook_tqdm\n",
      "/opt/conda/lib/python3.11/site-packages/transformers/tokenization_utils_base.py:1617: FutureWarning: `clean_up_tokenization_spaces` was not set. It will be set to `True` by default. This behavior will be deprecated in transformers v4.45, and will be then set to `False` by default. For more details check this issue: https://github.com/huggingface/transformers/issues/31884\n",
      "  warnings.warn(\n"
     ]
    }
   ],
   "source": [
    "from transformers import M2M100ForConditionalGeneration, M2M100Tokenizer\n",
    "\n",
    "hi_text = \"जीवन एक चॉकलेट बॉक्स की तरह है।\"\n",
    "chinese_text = \"生活就像一盒巧克力。\"\n",
    "\n",
    "model = M2M100ForConditionalGeneration.from_pretrained(\"facebook/m2m100_418M\")\n",
    "tokenizer = M2M100Tokenizer.from_pretrained(\"facebook/m2m100_418M\")\n",
    "\n",
    "# translate Hindi to French\n",
    "# tokenizer.src_lang = \"hi\"\n",
    "# encoded_hi = tokenizer(hi_text, return_tensors=\"pt\")\n",
    "# generated_tokens = model.generate(**encoded_hi, forced_bos_token_id=tokenizer.get_lang_id(\"fr\"))\n",
    "# tokenizer.batch_decode(generated_tokens, skip_special_tokens=True)\n",
    "# => \"La vie est comme une boîte de chocolat.\"\n",
    "\n",
    "# translate Chinese to English\n",
    "# tokenizer.src_lang = \"zh\"\n",
    "# encoded_zh = tokenizer(chinese_text, return_tensors=\"pt\")\n",
    "# generated_tokens = model.generate(**encoded_zh, forced_bos_token_id=tokenizer.get_lang_id(\"en\"))\n",
    "# tokenizer.batch_decode(generated_tokens, skip_special_tokens=True)\n",
    "# => \"Life is like a box of chocolate.\""
   ]
  },
  {
   "cell_type": "code",
   "execution_count": 4,
   "id": "b821ad6a-ba77-479c-8e69-1ea84303b211",
   "metadata": {},
   "outputs": [
    {
     "data": {
      "text/plain": [
       "['Life is like a chocolate box.']"
      ]
     },
     "execution_count": 4,
     "metadata": {},
     "output_type": "execute_result"
    }
   ],
   "source": [
    "hi_text = \"जीवन एक चॉकलेट बॉक्स की तरह है।\"\n",
    "tokenizer.src_lang = \"hi\"\n",
    "encoded_hi = tokenizer(hi_text, return_tensors=\"pt\")\n",
    "generated_tokens = model.generate(**encoded_hi, forced_bos_token_id=tokenizer.get_lang_id(\"en\"))\n",
    "tokenizer.batch_decode(generated_tokens, skip_special_tokens=True)"
   ]
  },
  {
   "cell_type": "code",
   "execution_count": 5,
   "id": "f9df1955-cb68-41b0-9cb4-68aa3724a4c8",
   "metadata": {},
   "outputs": [
    {
     "name": "stdout",
     "output_type": "stream",
     "text": [
      "['जीवन एक चॉकलेट बॉक्स की तरह है।']\n"
     ]
    }
   ],
   "source": [
    "# %%timeit\n",
    "hi_text = \"Life is like a chocolate box.\"\n",
    "tokenizer.src_lang = \"en\"\n",
    "encoded_hi = tokenizer(hi_text, return_tensors=\"pt\")\n",
    "generated_tokens = model.generate(**encoded_hi, forced_bos_token_id=tokenizer.get_lang_id(\"hi\"))\n",
    "print(tokenizer.batch_decode(generated_tokens, skip_special_tokens=True))"
   ]
  },
  {
   "cell_type": "code",
   "execution_count": 6,
   "id": "b1545528-659e-441b-acb8-42071ff2c187",
   "metadata": {},
   "outputs": [],
   "source": [
    "# tokenizer.batch_decode(generated_tokens, skip_special_tokens=True)"
   ]
  },
  {
   "cell_type": "code",
   "execution_count": null,
   "id": "3c6e3104-3cd4-4947-a4af-15971418baeb",
   "metadata": {},
   "outputs": [],
   "source": []
  },
  {
   "cell_type": "code",
   "execution_count": 35,
   "id": "45db2ffe-db6e-4b78-b5c6-ef4d7c7ca3a0",
   "metadata": {},
   "outputs": [
    {
     "name": "stdout",
     "output_type": "stream",
     "text": [
      "Collecting langdetect\n",
      "  Downloading langdetect-1.0.9.tar.gz (981 kB)\n",
      "\u001b[2K     \u001b[90m━━━━━━━━━━━━━━━━━━━━━━━━━━━━━━━━━━━━━━━\u001b[0m \u001b[32m981.5/981.5 kB\u001b[0m \u001b[31m8.6 MB/s\u001b[0m eta \u001b[36m0:00:00\u001b[0ma \u001b[36m0:00:01\u001b[0m\n",
      "\u001b[?25h  Preparing metadata (setup.py) ... \u001b[?25ldone\n",
      "\u001b[?25hRequirement already satisfied: six in /opt/conda/lib/python3.11/site-packages (from langdetect) (1.16.0)\n",
      "Building wheels for collected packages: langdetect\n",
      "  Building wheel for langdetect (setup.py) ... \u001b[?25ldone\n",
      "\u001b[?25h  Created wheel for langdetect: filename=langdetect-1.0.9-py3-none-any.whl size=993224 sha256=f2692d59a7dd89f06ee7e099605536145c006b7c341e3eef10d7b7618262b7e9\n",
      "  Stored in directory: /home/jovyan/.cache/pip/wheels/0a/f2/b2/e5ca405801e05eb7c8ed5b3b4bcf1fcabcd6272c167640072e\n",
      "Successfully built langdetect\n",
      "Installing collected packages: langdetect\n",
      "Successfully installed langdetect-1.0.9\n"
     ]
    }
   ],
   "source": [
    "!pip install langdetect"
   ]
  },
  {
   "cell_type": "code",
   "execution_count": 36,
   "id": "0c5a5338-a1fb-4dc2-86b0-75350a18349d",
   "metadata": {},
   "outputs": [
    {
     "data": {
      "text/plain": [
       "'en'"
      ]
     },
     "execution_count": 36,
     "metadata": {},
     "output_type": "execute_result"
    }
   ],
   "source": [
    "from langdetect import detect\n",
    "detect(\"War doesn't show who's right, just who's left.\")"
   ]
  },
  {
   "cell_type": "code",
   "execution_count": 39,
   "id": "cfa14743-93ff-42ab-8c8d-f96e4e981ecd",
   "metadata": {},
   "outputs": [
    {
     "data": {
      "text/plain": [
       "'hi'"
      ]
     },
     "execution_count": 39,
     "metadata": {},
     "output_type": "execute_result"
    }
   ],
   "source": [
    "detect(\"जीवन एक चॉकलेट बॉक्स की तरह है।\")"
   ]
  },
  {
   "cell_type": "code",
   "execution_count": 1,
   "id": "0c40bb1f-3798-439a-b3e0-bf8d6c11f33a",
   "metadata": {},
   "outputs": [],
   "source": [
    "# !pip install openai-whisper"
   ]
  },
  {
   "cell_type": "code",
   "execution_count": 2,
   "id": "77a8a4a5-dd01-49ab-a06a-28dc83a42bc8",
   "metadata": {},
   "outputs": [
    {
     "name": "stdout",
     "output_type": "stream",
     "text": [
      "Collecting torch\n",
      "  Downloading torch-2.4.1-cp311-cp311-manylinux2014_aarch64.whl.metadata (26 kB)\n",
      "Collecting transformers\n",
      "  Downloading transformers-4.45.1-py3-none-any.whl.metadata (44 kB)\n",
      "\u001b[2K     \u001b[90m━━━━━━━━━━━━━━━━━━━━━━━━━━━━━━━━━━━━━━━━\u001b[0m \u001b[32m44.4/44.4 kB\u001b[0m \u001b[31m4.4 MB/s\u001b[0m eta \u001b[36m0:00:00\u001b[0m\n",
      "\u001b[?25hCollecting torchaudio\n",
      "  Downloading torchaudio-2.4.1-cp311-cp311-manylinux2014_aarch64.whl.metadata (6.4 kB)\n",
      "Collecting sentencepiece\n",
      "  Downloading sentencepiece-0.2.0-cp311-cp311-manylinux_2_17_aarch64.manylinux2014_aarch64.whl.metadata (7.7 kB)\n",
      "Collecting filelock (from torch)\n",
      "  Downloading filelock-3.16.1-py3-none-any.whl.metadata (2.9 kB)\n",
      "Requirement already satisfied: typing-extensions>=4.8.0 in /opt/conda/lib/python3.11/site-packages (from torch) (4.8.0)\n",
      "Collecting sympy (from torch)\n",
      "  Downloading sympy-1.13.3-py3-none-any.whl.metadata (12 kB)\n",
      "Collecting networkx (from torch)\n",
      "  Downloading networkx-3.3-py3-none-any.whl.metadata (5.1 kB)\n",
      "Requirement already satisfied: jinja2 in /opt/conda/lib/python3.11/site-packages (from torch) (3.1.2)\n",
      "Collecting fsspec (from torch)\n",
      "  Downloading fsspec-2024.9.0-py3-none-any.whl.metadata (11 kB)\n",
      "Collecting huggingface-hub<1.0,>=0.23.2 (from transformers)\n",
      "  Downloading huggingface_hub-0.25.1-py3-none-any.whl.metadata (13 kB)\n",
      "Collecting numpy>=1.17 (from transformers)\n",
      "  Downloading numpy-2.1.1-cp311-cp311-manylinux_2_17_aarch64.manylinux2014_aarch64.whl.metadata (62 kB)\n",
      "\u001b[2K     \u001b[90m━━━━━━━━━━━━━━━━━━━━━━━━━━━━━━━━━━━━━━━━\u001b[0m \u001b[32m62.0/62.0 kB\u001b[0m \u001b[31m3.3 MB/s\u001b[0m eta \u001b[36m0:00:00\u001b[0m\n",
      "\u001b[?25hRequirement already satisfied: packaging>=20.0 in /opt/conda/lib/python3.11/site-packages (from transformers) (23.2)\n",
      "Requirement already satisfied: pyyaml>=5.1 in /opt/conda/lib/python3.11/site-packages (from transformers) (6.0.1)\n",
      "Collecting regex!=2019.12.17 (from transformers)\n",
      "  Downloading regex-2024.9.11-cp311-cp311-manylinux_2_17_aarch64.manylinux2014_aarch64.whl.metadata (40 kB)\n",
      "\u001b[2K     \u001b[90m━━━━━━━━━━━━━━━━━━━━━━━━━━━━━━━━━━━━━━━\u001b[0m \u001b[32m40.5/40.5 kB\u001b[0m \u001b[31m918.6 kB/s\u001b[0m eta \u001b[36m0:00:00\u001b[0m\n",
      "\u001b[?25hRequirement already satisfied: requests in /opt/conda/lib/python3.11/site-packages (from transformers) (2.31.0)\n",
      "Collecting safetensors>=0.4.1 (from transformers)\n",
      "  Downloading safetensors-0.4.5-cp311-cp311-manylinux_2_17_aarch64.manylinux2014_aarch64.whl.metadata (3.8 kB)\n",
      "Collecting tokenizers<0.21,>=0.20 (from transformers)\n",
      "  Downloading tokenizers-0.20.0-cp311-cp311-manylinux_2_17_aarch64.manylinux2014_aarch64.whl.metadata (6.7 kB)\n",
      "Requirement already satisfied: tqdm>=4.27 in /opt/conda/lib/python3.11/site-packages (from transformers) (4.66.1)\n",
      "Requirement already satisfied: MarkupSafe>=2.0 in /opt/conda/lib/python3.11/site-packages (from jinja2->torch) (2.1.3)\n",
      "Requirement already satisfied: charset-normalizer<4,>=2 in /opt/conda/lib/python3.11/site-packages (from requests->transformers) (3.3.0)\n",
      "Requirement already satisfied: idna<4,>=2.5 in /opt/conda/lib/python3.11/site-packages (from requests->transformers) (3.4)\n",
      "Requirement already satisfied: urllib3<3,>=1.21.1 in /opt/conda/lib/python3.11/site-packages (from requests->transformers) (2.0.7)\n",
      "Requirement already satisfied: certifi>=2017.4.17 in /opt/conda/lib/python3.11/site-packages (from requests->transformers) (2023.7.22)\n",
      "Collecting mpmath<1.4,>=1.1.0 (from sympy->torch)\n",
      "  Downloading mpmath-1.3.0-py3-none-any.whl.metadata (8.6 kB)\n",
      "Downloading torch-2.4.1-cp311-cp311-manylinux2014_aarch64.whl (89.7 MB)\n",
      "\u001b[2K   \u001b[90m━━━━━━━━━━━━━━━━━━━━━━━━━━━━━━━━━━━━━━━━\u001b[0m \u001b[32m89.7/89.7 MB\u001b[0m \u001b[31m7.6 MB/s\u001b[0m eta \u001b[36m0:00:00\u001b[0m00:01\u001b[0m00:01\u001b[0mm\n",
      "\u001b[?25hDownloading transformers-4.45.1-py3-none-any.whl (9.9 MB)\n",
      "\u001b[2K   \u001b[90m━━━━━━━━━━━━━━━━━━━━━━━━━━━━━━━━━━━━━━━━\u001b[0m \u001b[32m9.9/9.9 MB\u001b[0m \u001b[31m11.3 MB/s\u001b[0m eta \u001b[36m0:00:00\u001b[0m00:01\u001b[0m00:01\u001b[0m\n",
      "\u001b[?25hDownloading torchaudio-2.4.1-cp311-cp311-manylinux2014_aarch64.whl (1.7 MB)\n",
      "\u001b[2K   \u001b[90m━━━━━━━━━━━━━━━━━━━━━━━━━━━━━━━━━━━━━━━━\u001b[0m \u001b[32m1.7/1.7 MB\u001b[0m \u001b[31m10.9 MB/s\u001b[0m eta \u001b[36m0:00:00\u001b[0m00:01\u001b[0m00:01\u001b[0m\n",
      "\u001b[?25hDownloading sentencepiece-0.2.0-cp311-cp311-manylinux_2_17_aarch64.manylinux2014_aarch64.whl (1.3 MB)\n",
      "\u001b[2K   \u001b[90m━━━━━━━━━━━━━━━━━━━━━━━━━━━━━━━━━━━━━━━━\u001b[0m \u001b[32m1.3/1.3 MB\u001b[0m \u001b[31m10.9 MB/s\u001b[0m eta \u001b[36m0:00:00\u001b[0m00:01\u001b[0m00:01\u001b[0m\n",
      "\u001b[?25hDownloading huggingface_hub-0.25.1-py3-none-any.whl (436 kB)\n",
      "\u001b[2K   \u001b[90m━━━━━━━━━━━━━━━━━━━━━━━━━━━━━━━━━━━━━━━━\u001b[0m \u001b[32m436.4/436.4 kB\u001b[0m \u001b[31m9.8 MB/s\u001b[0m eta \u001b[36m0:00:00\u001b[0mta \u001b[36m0:00:01\u001b[0m\n",
      "\u001b[?25hDownloading fsspec-2024.9.0-py3-none-any.whl (179 kB)\n",
      "\u001b[2K   \u001b[90m━━━━━━━━━━━━━━━━━━━━━━━━━━━━━━━━━━━━━━━━\u001b[0m \u001b[32m179.3/179.3 kB\u001b[0m \u001b[31m10.6 MB/s\u001b[0m eta \u001b[36m0:00:00\u001b[0m\n",
      "\u001b[?25hDownloading numpy-2.1.1-cp311-cp311-manylinux_2_17_aarch64.manylinux2014_aarch64.whl (14.0 MB)\n",
      "\u001b[2K   \u001b[90m━━━━━━━━━━━━━━━━━━━━━━━━━━━━━━━━━━━━━━━━\u001b[0m \u001b[32m14.0/14.0 MB\u001b[0m \u001b[31m9.5 MB/s\u001b[0m eta \u001b[36m0:00:00\u001b[0m:00:01\u001b[0m00:01\u001b[0m\n",
      "\u001b[?25hDownloading regex-2024.9.11-cp311-cp311-manylinux_2_17_aarch64.manylinux2014_aarch64.whl (791 kB)\n",
      "\u001b[2K   \u001b[90m━━━━━━━━━━━━━━━━━━━━━━━━━━━━━━━━━━━━━━━━\u001b[0m \u001b[32m791.8/791.8 kB\u001b[0m \u001b[31m7.7 MB/s\u001b[0m eta \u001b[36m0:00:00\u001b[0ma \u001b[36m0:00:01\u001b[0m\n",
      "\u001b[?25hDownloading safetensors-0.4.5-cp311-cp311-manylinux_2_17_aarch64.manylinux2014_aarch64.whl (441 kB)\n",
      "\u001b[2K   \u001b[90m━━━━━━━━━━━━━━━━━━━━━━━━━━━━━━━━━━━━━━━━\u001b[0m \u001b[32m441.1/441.1 kB\u001b[0m \u001b[31m7.6 MB/s\u001b[0m eta \u001b[36m0:00:00\u001b[0ma \u001b[36m0:00:01\u001b[0m\n",
      "\u001b[?25hDownloading tokenizers-0.20.0-cp311-cp311-manylinux_2_17_aarch64.manylinux2014_aarch64.whl (2.9 MB)\n",
      "\u001b[2K   \u001b[90m━━━━━━━━━━━━━━━━━━━━━━━━━━━━━━━━━━━━━━━━\u001b[0m \u001b[32m2.9/2.9 MB\u001b[0m \u001b[31m7.8 MB/s\u001b[0m eta \u001b[36m0:00:00\u001b[0ma \u001b[36m0:00:01\u001b[0m\n",
      "\u001b[?25hDownloading filelock-3.16.1-py3-none-any.whl (16 kB)\n",
      "Downloading networkx-3.3-py3-none-any.whl (1.7 MB)\n",
      "\u001b[2K   \u001b[90m━━━━━━━━━━━━━━━━━━━━━━━━━━━━━━━━━━━━━━━━\u001b[0m \u001b[32m1.7/1.7 MB\u001b[0m \u001b[31m9.4 MB/s\u001b[0m eta \u001b[36m0:00:00\u001b[0ma \u001b[36m0:00:01\u001b[0m\n",
      "\u001b[?25hDownloading sympy-1.13.3-py3-none-any.whl (6.2 MB)\n",
      "\u001b[2K   \u001b[90m━━━━━━━━━━━━━━━━━━━━━━━━━━━━━━━━━━━━━━━━\u001b[0m \u001b[32m6.2/6.2 MB\u001b[0m \u001b[31m11.2 MB/s\u001b[0m eta \u001b[36m0:00:00\u001b[0m00:01\u001b[0m00:01\u001b[0m\n",
      "\u001b[?25hDownloading mpmath-1.3.0-py3-none-any.whl (536 kB)\n",
      "\u001b[2K   \u001b[90m━━━━━━━━━━━━━━━━━━━━━━━━━━━━━━━━━━━━━━━━\u001b[0m \u001b[32m536.2/536.2 kB\u001b[0m \u001b[31m11.2 MB/s\u001b[0m eta \u001b[36m0:00:00\u001b[0ma \u001b[36m0:00:01\u001b[0m\n",
      "\u001b[?25hInstalling collected packages: sentencepiece, mpmath, sympy, safetensors, regex, numpy, networkx, fsspec, filelock, torch, huggingface-hub, torchaudio, tokenizers, transformers\n",
      "Successfully installed filelock-3.16.1 fsspec-2024.9.0 huggingface-hub-0.25.1 mpmath-1.3.0 networkx-3.3 numpy-2.1.1 regex-2024.9.11 safetensors-0.4.5 sentencepiece-0.2.0 sympy-1.13.3 tokenizers-0.20.0 torch-2.4.1 torchaudio-2.4.1 transformers-4.45.1\n"
     ]
    }
   ],
   "source": [
    "!pip install torch transformers torchaudio sentencepiece"
   ]
  },
  {
   "cell_type": "code",
   "execution_count": 22,
   "id": "2b187e24-50b4-4645-a9a7-b6041f143b10",
   "metadata": {},
   "outputs": [],
   "source": [
    "from transformers import pipeline"
   ]
  },
  {
   "cell_type": "code",
   "execution_count": 23,
   "id": "fe518e5d-6b55-4e9a-9a32-9e9b213d03af",
   "metadata": {},
   "outputs": [
    {
     "data": {
      "application/vnd.jupyter.widget-view+json": {
       "model_id": "0bf8ca13088e429bb525ada8ac089119",
       "version_major": 2,
       "version_minor": 0
      },
      "text/plain": [
       "config.json:   0%|          | 0.00/1.98k [00:00<?, ?B/s]"
      ]
     },
     "metadata": {},
     "output_type": "display_data"
    },
    {
     "data": {
      "application/vnd.jupyter.widget-view+json": {
       "model_id": "6e27c66f8b4e43179df8eea1de6d8965",
       "version_major": 2,
       "version_minor": 0
      },
      "text/plain": [
       "model.safetensors:   0%|          | 0.00/290M [00:00<?, ?B/s]"
      ]
     },
     "metadata": {},
     "output_type": "display_data"
    },
    {
     "data": {
      "application/vnd.jupyter.widget-view+json": {
       "model_id": "855fb9ccc33c447c966fa0523b0fdb9f",
       "version_major": 2,
       "version_minor": 0
      },
      "text/plain": [
       "generation_config.json:   0%|          | 0.00/3.81k [00:00<?, ?B/s]"
      ]
     },
     "metadata": {},
     "output_type": "display_data"
    },
    {
     "data": {
      "application/vnd.jupyter.widget-view+json": {
       "model_id": "88df4894100544e6a029f9caf8be40b5",
       "version_major": 2,
       "version_minor": 0
      },
      "text/plain": [
       "tokenizer_config.json:   0%|          | 0.00/283k [00:00<?, ?B/s]"
      ]
     },
     "metadata": {},
     "output_type": "display_data"
    },
    {
     "data": {
      "application/vnd.jupyter.widget-view+json": {
       "model_id": "b6bf9c9e54964ca289f78a1712c7b630",
       "version_major": 2,
       "version_minor": 0
      },
      "text/plain": [
       "vocab.json:   0%|          | 0.00/836k [00:00<?, ?B/s]"
      ]
     },
     "metadata": {},
     "output_type": "display_data"
    },
    {
     "data": {
      "application/vnd.jupyter.widget-view+json": {
       "model_id": "a92f956ef6534b3eb50a0d57dc9ca45d",
       "version_major": 2,
       "version_minor": 0
      },
      "text/plain": [
       "tokenizer.json:   0%|          | 0.00/2.48M [00:00<?, ?B/s]"
      ]
     },
     "metadata": {},
     "output_type": "display_data"
    },
    {
     "data": {
      "application/vnd.jupyter.widget-view+json": {
       "model_id": "2116036a55ca42248513a02dbe089c63",
       "version_major": 2,
       "version_minor": 0
      },
      "text/plain": [
       "merges.txt:   0%|          | 0.00/494k [00:00<?, ?B/s]"
      ]
     },
     "metadata": {},
     "output_type": "display_data"
    },
    {
     "data": {
      "application/vnd.jupyter.widget-view+json": {
       "model_id": "c2b1499fc89b447580ace2d78054ea67",
       "version_major": 2,
       "version_minor": 0
      },
      "text/plain": [
       "normalizer.json:   0%|          | 0.00/52.7k [00:00<?, ?B/s]"
      ]
     },
     "metadata": {},
     "output_type": "display_data"
    },
    {
     "data": {
      "application/vnd.jupyter.widget-view+json": {
       "model_id": "cf6cdc88dabb4bbe9522d6b6322a02be",
       "version_major": 2,
       "version_minor": 0
      },
      "text/plain": [
       "added_tokens.json:   0%|          | 0.00/34.6k [00:00<?, ?B/s]"
      ]
     },
     "metadata": {},
     "output_type": "display_data"
    },
    {
     "data": {
      "application/vnd.jupyter.widget-view+json": {
       "model_id": "52041161448748a584cd33652f2db2ef",
       "version_major": 2,
       "version_minor": 0
      },
      "text/plain": [
       "special_tokens_map.json:   0%|          | 0.00/2.19k [00:00<?, ?B/s]"
      ]
     },
     "metadata": {},
     "output_type": "display_data"
    },
    {
     "data": {
      "application/vnd.jupyter.widget-view+json": {
       "model_id": "3790bf4902b947de903a2c27e102ca71",
       "version_major": 2,
       "version_minor": 0
      },
      "text/plain": [
       "preprocessor_config.json:   0%|          | 0.00/185k [00:00<?, ?B/s]"
      ]
     },
     "metadata": {},
     "output_type": "display_data"
    }
   ],
   "source": [
    "transcriber = pipeline(\"automatic-speech-recognition\", model=\"openai/whisper-base\")"
   ]
  },
  {
   "cell_type": "code",
   "execution_count": 7,
   "id": "9678a970-a6b9-4b61-a394-a78ccd1d780e",
   "metadata": {},
   "outputs": [
    {
     "name": "stdout",
     "output_type": "stream",
     "text": [
      "Collecting googletrans\n",
      "  Downloading googletrans-3.0.0.tar.gz (17 kB)\n",
      "  Preparing metadata (setup.py) ... \u001b[?25ldone\n",
      "\u001b[?25hCollecting httpx==0.13.3 (from googletrans)\n",
      "  Downloading httpx-0.13.3-py3-none-any.whl.metadata (25 kB)\n",
      "Requirement already satisfied: certifi in /opt/conda/lib/python3.11/site-packages (from httpx==0.13.3->googletrans) (2023.7.22)\n",
      "Collecting hstspreload (from httpx==0.13.3->googletrans)\n",
      "  Downloading hstspreload-2024.9.1-py3-none-any.whl.metadata (2.1 kB)\n",
      "Requirement already satisfied: sniffio in /opt/conda/lib/python3.11/site-packages (from httpx==0.13.3->googletrans) (1.3.0)\n",
      "Collecting chardet==3.* (from httpx==0.13.3->googletrans)\n",
      "  Downloading chardet-3.0.4-py2.py3-none-any.whl.metadata (3.2 kB)\n",
      "Collecting idna==2.* (from httpx==0.13.3->googletrans)\n",
      "  Downloading idna-2.10-py2.py3-none-any.whl.metadata (9.1 kB)\n",
      "Collecting rfc3986<2,>=1.3 (from httpx==0.13.3->googletrans)\n",
      "  Downloading rfc3986-1.5.0-py2.py3-none-any.whl.metadata (6.5 kB)\n",
      "Collecting httpcore==0.9.* (from httpx==0.13.3->googletrans)\n",
      "  Downloading httpcore-0.9.1-py3-none-any.whl.metadata (4.6 kB)\n",
      "Collecting h11<0.10,>=0.8 (from httpcore==0.9.*->httpx==0.13.3->googletrans)\n",
      "  Downloading h11-0.9.0-py2.py3-none-any.whl.metadata (8.1 kB)\n",
      "Collecting h2==3.* (from httpcore==0.9.*->httpx==0.13.3->googletrans)\n",
      "  Downloading h2-3.2.0-py2.py3-none-any.whl.metadata (32 kB)\n",
      "Collecting hyperframe<6,>=5.2.0 (from h2==3.*->httpcore==0.9.*->httpx==0.13.3->googletrans)\n",
      "  Downloading hyperframe-5.2.0-py2.py3-none-any.whl.metadata (7.2 kB)\n",
      "Collecting hpack<4,>=3.0 (from h2==3.*->httpcore==0.9.*->httpx==0.13.3->googletrans)\n",
      "  Downloading hpack-3.0.0-py2.py3-none-any.whl.metadata (7.0 kB)\n",
      "Downloading httpx-0.13.3-py3-none-any.whl (55 kB)\n",
      "\u001b[2K   \u001b[90m━━━━━━━━━━━━━━━━━━━━━━━━━━━━━━━━━━━━━━━━\u001b[0m \u001b[32m55.1/55.1 kB\u001b[0m \u001b[31m3.7 MB/s\u001b[0m eta \u001b[36m0:00:00\u001b[0m\n",
      "\u001b[?25hDownloading chardet-3.0.4-py2.py3-none-any.whl (133 kB)\n",
      "\u001b[2K   \u001b[90m━━━━━━━━━━━━━━━━━━━━━━━━━━━━━━━━━━━━━━━━\u001b[0m \u001b[32m133.4/133.4 kB\u001b[0m \u001b[31m4.8 MB/s\u001b[0m eta \u001b[36m0:00:00\u001b[0m\n",
      "\u001b[?25hDownloading httpcore-0.9.1-py3-none-any.whl (42 kB)\n",
      "\u001b[2K   \u001b[90m━━━━━━━━━━━━━━━━━━━━━━━━━━━━━━━━━━━━━━━━\u001b[0m \u001b[32m42.6/42.6 kB\u001b[0m \u001b[31m7.9 MB/s\u001b[0m eta \u001b[36m0:00:00\u001b[0m\n",
      "\u001b[?25hDownloading idna-2.10-py2.py3-none-any.whl (58 kB)\n",
      "\u001b[2K   \u001b[90m━━━━━━━━━━━━━━━━━━━━━━━━━━━━━━━━━━━━━━━━\u001b[0m \u001b[32m58.8/58.8 kB\u001b[0m \u001b[31m6.9 MB/s\u001b[0m eta \u001b[36m0:00:00\u001b[0m\n",
      "\u001b[?25hDownloading h2-3.2.0-py2.py3-none-any.whl (65 kB)\n",
      "\u001b[2K   \u001b[90m━━━━━━━━━━━━━━━━━━━━━━━━━━━━━━━━━━━━━━━━\u001b[0m \u001b[32m65.0/65.0 kB\u001b[0m \u001b[31m6.3 MB/s\u001b[0m eta \u001b[36m0:00:00\u001b[0m\n",
      "\u001b[?25hDownloading rfc3986-1.5.0-py2.py3-none-any.whl (31 kB)\n",
      "Downloading hstspreload-2024.9.1-py3-none-any.whl (1.2 MB)\n",
      "\u001b[2K   \u001b[90m━━━━━━━━━━━━━━━━━━━━━━━━━━━━━━━━━━━━━━━━\u001b[0m \u001b[32m1.2/1.2 MB\u001b[0m \u001b[31m8.9 MB/s\u001b[0m eta \u001b[36m0:00:00\u001b[0ma \u001b[36m0:00:01\u001b[0m\n",
      "\u001b[?25hDownloading h11-0.9.0-py2.py3-none-any.whl (53 kB)\n",
      "\u001b[2K   \u001b[90m━━━━━━━━━━━━━━━━━━━━━━━━━━━━━━━━━━━━━━━━\u001b[0m \u001b[32m53.6/53.6 kB\u001b[0m \u001b[31m6.4 MB/s\u001b[0m eta \u001b[36m0:00:00\u001b[0m\n",
      "\u001b[?25hDownloading hpack-3.0.0-py2.py3-none-any.whl (38 kB)\n",
      "Downloading hyperframe-5.2.0-py2.py3-none-any.whl (12 kB)\n",
      "Building wheels for collected packages: googletrans\n",
      "  Building wheel for googletrans (setup.py) ... \u001b[?25ldone\n",
      "\u001b[?25h  Created wheel for googletrans: filename=googletrans-3.0.0-py3-none-any.whl size=15716 sha256=86dd15d7e4d6ab1db450659c60c6728fc6f6498e56631b1792e30c12f60dfb44\n",
      "  Stored in directory: /home/jovyan/.cache/pip/wheels/a0/a7/f5/8029729ab74f860fab6614e312b0aa48b665d1057280bc2ef3\n",
      "Successfully built googletrans\n",
      "Installing collected packages: rfc3986, hyperframe, hpack, h11, chardet, idna, hstspreload, h2, httpcore, httpx, googletrans\n",
      "  Attempting uninstall: idna\n",
      "    Found existing installation: idna 3.4\n",
      "    Uninstalling idna-3.4:\n",
      "      Successfully uninstalled idna-3.4\n",
      "Successfully installed chardet-3.0.4 googletrans-3.0.0 h11-0.9.0 h2-3.2.0 hpack-3.0.0 hstspreload-2024.9.1 httpcore-0.9.1 httpx-0.13.3 hyperframe-5.2.0 idna-2.10 rfc3986-1.5.0\n"
     ]
    }
   ],
   "source": [
    "!pip install googletrans"
   ]
  },
  {
   "cell_type": "code",
   "execution_count": 16,
   "id": "ecc7abb4-2d95-41f1-9cf9-4d88278de02b",
   "metadata": {},
   "outputs": [],
   "source": [
    "from googletrans import Translator\n",
    "translator = Translator(service_urls=[\n",
    "      'translate.google.com',\n",
    "      'translate.google.co.kr',\n",
    "    ])"
   ]
  },
  {
   "cell_type": "code",
   "execution_count": 14,
   "id": "78c4d237-5309-4fde-b9ca-bb99f2840bbb",
   "metadata": {},
   "outputs": [],
   "source": [
    "# del translator"
   ]
  },
  {
   "cell_type": "code",
   "execution_count": 17,
   "id": "f02c06fd-debe-4b0a-a854-7b547d17927b",
   "metadata": {},
   "outputs": [
    {
     "ename": "AttributeError",
     "evalue": "'NoneType' object has no attribute 'group'",
     "output_type": "error",
     "traceback": [
      "\u001b[0;31m---------------------------------------------------------------------------\u001b[0m",
      "\u001b[0;31mAttributeError\u001b[0m                            Traceback (most recent call last)",
      "Cell \u001b[0;32mIn[17], line 1\u001b[0m\n\u001b[0;32m----> 1\u001b[0m \u001b[43mtranslator\u001b[49m\u001b[38;5;241;43m.\u001b[39;49m\u001b[43mtranslate\u001b[49m\u001b[43m(\u001b[49m\u001b[38;5;124;43m'\u001b[39;49m\u001b[38;5;124;43m안녕하세요.\u001b[39;49m\u001b[38;5;124;43m'\u001b[39;49m\u001b[43m)\u001b[49m\n",
      "File \u001b[0;32m/opt/conda/lib/python3.11/site-packages/googletrans/client.py:182\u001b[0m, in \u001b[0;36mTranslator.translate\u001b[0;34m(self, text, dest, src, **kwargs)\u001b[0m\n\u001b[1;32m    179\u001b[0m     \u001b[38;5;28;01mreturn\u001b[39;00m result\n\u001b[1;32m    181\u001b[0m origin \u001b[38;5;241m=\u001b[39m text\n\u001b[0;32m--> 182\u001b[0m data \u001b[38;5;241m=\u001b[39m \u001b[38;5;28;43mself\u001b[39;49m\u001b[38;5;241;43m.\u001b[39;49m\u001b[43m_translate\u001b[49m\u001b[43m(\u001b[49m\u001b[43mtext\u001b[49m\u001b[43m,\u001b[49m\u001b[43m \u001b[49m\u001b[43mdest\u001b[49m\u001b[43m,\u001b[49m\u001b[43m \u001b[49m\u001b[43msrc\u001b[49m\u001b[43m,\u001b[49m\u001b[43m \u001b[49m\u001b[43mkwargs\u001b[49m\u001b[43m)\u001b[49m\n\u001b[1;32m    184\u001b[0m \u001b[38;5;66;03m# this code will be updated when the format is changed.\u001b[39;00m\n\u001b[1;32m    185\u001b[0m translated \u001b[38;5;241m=\u001b[39m \u001b[38;5;124m'\u001b[39m\u001b[38;5;124m'\u001b[39m\u001b[38;5;241m.\u001b[39mjoin([d[\u001b[38;5;241m0\u001b[39m] \u001b[38;5;28;01mif\u001b[39;00m d[\u001b[38;5;241m0\u001b[39m] \u001b[38;5;28;01melse\u001b[39;00m \u001b[38;5;124m'\u001b[39m\u001b[38;5;124m'\u001b[39m \u001b[38;5;28;01mfor\u001b[39;00m d \u001b[38;5;129;01min\u001b[39;00m data[\u001b[38;5;241m0\u001b[39m]])\n",
      "File \u001b[0;32m/opt/conda/lib/python3.11/site-packages/googletrans/client.py:78\u001b[0m, in \u001b[0;36mTranslator._translate\u001b[0;34m(self, text, dest, src, override)\u001b[0m\n\u001b[1;32m     77\u001b[0m \u001b[38;5;28;01mdef\u001b[39;00m \u001b[38;5;21m_translate\u001b[39m(\u001b[38;5;28mself\u001b[39m, text, dest, src, override):\n\u001b[0;32m---> 78\u001b[0m     token \u001b[38;5;241m=\u001b[39m \u001b[38;5;28;43mself\u001b[39;49m\u001b[38;5;241;43m.\u001b[39;49m\u001b[43mtoken_acquirer\u001b[49m\u001b[38;5;241;43m.\u001b[39;49m\u001b[43mdo\u001b[49m\u001b[43m(\u001b[49m\u001b[43mtext\u001b[49m\u001b[43m)\u001b[49m\n\u001b[1;32m     79\u001b[0m     params \u001b[38;5;241m=\u001b[39m utils\u001b[38;5;241m.\u001b[39mbuild_params(query\u001b[38;5;241m=\u001b[39mtext, src\u001b[38;5;241m=\u001b[39msrc, dest\u001b[38;5;241m=\u001b[39mdest,\n\u001b[1;32m     80\u001b[0m                                 token\u001b[38;5;241m=\u001b[39mtoken, override\u001b[38;5;241m=\u001b[39moverride)\n\u001b[1;32m     82\u001b[0m     url \u001b[38;5;241m=\u001b[39m urls\u001b[38;5;241m.\u001b[39mTRANSLATE\u001b[38;5;241m.\u001b[39mformat(host\u001b[38;5;241m=\u001b[39m\u001b[38;5;28mself\u001b[39m\u001b[38;5;241m.\u001b[39m_pick_service_url())\n",
      "File \u001b[0;32m/opt/conda/lib/python3.11/site-packages/googletrans/gtoken.py:194\u001b[0m, in \u001b[0;36mTokenAcquirer.do\u001b[0;34m(self, text)\u001b[0m\n\u001b[1;32m    193\u001b[0m \u001b[38;5;28;01mdef\u001b[39;00m \u001b[38;5;21mdo\u001b[39m(\u001b[38;5;28mself\u001b[39m, text):\n\u001b[0;32m--> 194\u001b[0m     \u001b[38;5;28;43mself\u001b[39;49m\u001b[38;5;241;43m.\u001b[39;49m\u001b[43m_update\u001b[49m\u001b[43m(\u001b[49m\u001b[43m)\u001b[49m\n\u001b[1;32m    195\u001b[0m     tk \u001b[38;5;241m=\u001b[39m \u001b[38;5;28mself\u001b[39m\u001b[38;5;241m.\u001b[39macquire(text)\n\u001b[1;32m    196\u001b[0m     \u001b[38;5;28;01mreturn\u001b[39;00m tk\n",
      "File \u001b[0;32m/opt/conda/lib/python3.11/site-packages/googletrans/gtoken.py:62\u001b[0m, in \u001b[0;36mTokenAcquirer._update\u001b[0;34m(self)\u001b[0m\n\u001b[1;32m     59\u001b[0m     \u001b[38;5;28;01mreturn\u001b[39;00m\n\u001b[1;32m     61\u001b[0m \u001b[38;5;66;03m# this will be the same as python code after stripping out a reserved word 'var'\u001b[39;00m\n\u001b[0;32m---> 62\u001b[0m code \u001b[38;5;241m=\u001b[39m \u001b[38;5;28;43mself\u001b[39;49m\u001b[38;5;241;43m.\u001b[39;49m\u001b[43mRE_TKK\u001b[49m\u001b[38;5;241;43m.\u001b[39;49m\u001b[43msearch\u001b[49m\u001b[43m(\u001b[49m\u001b[43mr\u001b[49m\u001b[38;5;241;43m.\u001b[39;49m\u001b[43mtext\u001b[49m\u001b[43m)\u001b[49m\u001b[38;5;241;43m.\u001b[39;49m\u001b[43mgroup\u001b[49m(\u001b[38;5;241m1\u001b[39m)\u001b[38;5;241m.\u001b[39mreplace(\u001b[38;5;124m'\u001b[39m\u001b[38;5;124mvar \u001b[39m\u001b[38;5;124m'\u001b[39m, \u001b[38;5;124m'\u001b[39m\u001b[38;5;124m'\u001b[39m)\n\u001b[1;32m     63\u001b[0m \u001b[38;5;66;03m# unescape special ascii characters such like a \\x3d(=)\u001b[39;00m\n\u001b[1;32m     64\u001b[0m code \u001b[38;5;241m=\u001b[39m code\u001b[38;5;241m.\u001b[39mencode()\u001b[38;5;241m.\u001b[39mdecode(\u001b[38;5;124m'\u001b[39m\u001b[38;5;124municode-escape\u001b[39m\u001b[38;5;124m'\u001b[39m)\n",
      "\u001b[0;31mAttributeError\u001b[0m: 'NoneType' object has no attribute 'group'"
     ]
    }
   ],
   "source": [
    "translator.translate('안녕하세요.')"
   ]
  },
  {
   "cell_type": "code",
   "execution_count": 1,
   "id": "94d510af-2866-446f-8185-ea718197d9bd",
   "metadata": {},
   "outputs": [
    {
     "name": "stdout",
     "output_type": "stream",
     "text": [
      "Collecting translate\n",
      "  Downloading translate-3.6.1-py2.py3-none-any.whl.metadata (7.7 kB)\n",
      "Collecting click (from translate)\n",
      "  Downloading click-8.1.7-py3-none-any.whl.metadata (3.0 kB)\n",
      "Collecting lxml (from translate)\n",
      "  Downloading lxml-5.3.0-cp311-cp311-manylinux_2_28_aarch64.whl.metadata (3.8 kB)\n",
      "Requirement already satisfied: requests in /opt/conda/lib/python3.11/site-packages (from translate) (2.31.0)\n",
      "Collecting libretranslatepy==2.1.1 (from translate)\n",
      "  Downloading libretranslatepy-2.1.1-py3-none-any.whl.metadata (233 bytes)\n",
      "Requirement already satisfied: charset-normalizer<4,>=2 in /opt/conda/lib/python3.11/site-packages (from requests->translate) (3.3.0)\n",
      "Requirement already satisfied: idna<4,>=2.5 in /opt/conda/lib/python3.11/site-packages (from requests->translate) (3.4)\n",
      "Requirement already satisfied: urllib3<3,>=1.21.1 in /opt/conda/lib/python3.11/site-packages (from requests->translate) (2.0.7)\n",
      "Requirement already satisfied: certifi>=2017.4.17 in /opt/conda/lib/python3.11/site-packages (from requests->translate) (2023.7.22)\n",
      "Downloading translate-3.6.1-py2.py3-none-any.whl (12 kB)\n",
      "Downloading libretranslatepy-2.1.1-py3-none-any.whl (3.2 kB)\n",
      "Downloading click-8.1.7-py3-none-any.whl (97 kB)\n",
      "\u001b[2K   \u001b[90m━━━━━━━━━━━━━━━━━━━━━━━━━━━━━━━━━━━━━━━━\u001b[0m \u001b[32m97.9/97.9 kB\u001b[0m \u001b[31m3.5 MB/s\u001b[0m eta \u001b[36m0:00:00\u001b[0m\n",
      "\u001b[?25hDownloading lxml-5.3.0-cp311-cp311-manylinux_2_28_aarch64.whl (4.8 MB)\n",
      "\u001b[2K   \u001b[90m━━━━━━━━━━━━━━━━━━━━━━━━━━━━━━━━━━━━━━━━\u001b[0m \u001b[32m4.8/4.8 MB\u001b[0m \u001b[31m10.8 MB/s\u001b[0m eta \u001b[36m0:00:00\u001b[0m00:01\u001b[0m00:01\u001b[0m\n",
      "\u001b[?25hInstalling collected packages: libretranslatepy, lxml, click, translate\n",
      "Successfully installed click-8.1.7 libretranslatepy-2.1.1 lxml-5.3.0 translate-3.6.1\n"
     ]
    }
   ],
   "source": [
    "!pip install translate"
   ]
  },
  {
   "cell_type": "code",
   "execution_count": 2,
   "id": "8eb8262e-5885-411c-89f0-e7effdd3b361",
   "metadata": {},
   "outputs": [],
   "source": [
    "from translate import Translator"
   ]
  },
  {
   "cell_type": "code",
   "execution_count": 3,
   "id": "9c200a4e-9655-4cc7-a65d-2807dd210dd5",
   "metadata": {},
   "outputs": [],
   "source": [
    "translator= Translator(to_lang=\"hi\")"
   ]
  },
  {
   "cell_type": "code",
   "execution_count": 7,
   "id": "094d049f-1955-4309-a15f-39f496c17495",
   "metadata": {},
   "outputs": [],
   "source": [
    "translation = translator.translate(\"summarise agnipath scheme\")"
   ]
  },
  {
   "cell_type": "code",
   "execution_count": 8,
   "id": "9f872a0a-8b9a-41be-b592-82112b764791",
   "metadata": {},
   "outputs": [
    {
     "data": {
      "text/plain": [
       "'अग्निपथ योजना का सारांश दें'"
      ]
     },
     "execution_count": 8,
     "metadata": {},
     "output_type": "execute_result"
    }
   ],
   "source": [
    "translation"
   ]
  },
  {
   "cell_type": "code",
   "execution_count": 9,
   "id": "5ced4c9a-c769-44f5-b944-ba3ed36a8140",
   "metadata": {},
   "outputs": [
    {
     "data": {
      "text/plain": [
       "'Summarize Agneepath Plan'"
      ]
     },
     "execution_count": 9,
     "metadata": {},
     "output_type": "execute_result"
    }
   ],
   "source": [
    "en_translator = Translator(to_lang=\"en\", from_lang=\"hi\")\n",
    "res = en_translator.translate(\"अग्निपथ योजना का सारांश दें\")\n",
    "res"
   ]
  },
  {
   "cell_type": "code",
   "execution_count": 31,
   "id": "b9dda3fc-1455-4438-a03b-9cce8e0e0ee3",
   "metadata": {},
   "outputs": [
    {
     "data": {
      "text/plain": [
       "\u001b[0;31mInit signature:\u001b[0m\n",
       "\u001b[0mTranslator\u001b[0m\u001b[0;34m(\u001b[0m\u001b[0;34m\u001b[0m\n",
       "\u001b[0;34m\u001b[0m    \u001b[0mto_lang\u001b[0m\u001b[0;34m,\u001b[0m\u001b[0;34m\u001b[0m\n",
       "\u001b[0;34m\u001b[0m    \u001b[0mfrom_lang\u001b[0m\u001b[0;34m=\u001b[0m\u001b[0;34m'en'\u001b[0m\u001b[0;34m,\u001b[0m\u001b[0;34m\u001b[0m\n",
       "\u001b[0;34m\u001b[0m    \u001b[0mprovider\u001b[0m\u001b[0;34m=\u001b[0m\u001b[0;32mNone\u001b[0m\u001b[0;34m,\u001b[0m\u001b[0;34m\u001b[0m\n",
       "\u001b[0;34m\u001b[0m    \u001b[0msecret_access_key\u001b[0m\u001b[0;34m=\u001b[0m\u001b[0;32mNone\u001b[0m\u001b[0;34m,\u001b[0m\u001b[0;34m\u001b[0m\n",
       "\u001b[0;34m\u001b[0m    \u001b[0mregion\u001b[0m\u001b[0;34m=\u001b[0m\u001b[0;32mNone\u001b[0m\u001b[0;34m,\u001b[0m\u001b[0;34m\u001b[0m\n",
       "\u001b[0;34m\u001b[0m    \u001b[0;34m**\u001b[0m\u001b[0mkwargs\u001b[0m\u001b[0;34m,\u001b[0m\u001b[0;34m\u001b[0m\n",
       "\u001b[0;34m\u001b[0m\u001b[0;34m)\u001b[0m\u001b[0;34m\u001b[0m\u001b[0;34m\u001b[0m\u001b[0m\n",
       "\u001b[0;31mDocstring:\u001b[0m      <no docstring>\n",
       "\u001b[0;31mFile:\u001b[0m           /opt/conda/lib/python3.11/site-packages/translate/translate.py\n",
       "\u001b[0;31mType:\u001b[0m           type\n",
       "\u001b[0;31mSubclasses:\u001b[0m     "
      ]
     },
     "metadata": {},
     "output_type": "display_data"
    }
   ],
   "source": [
    "Translator?"
   ]
  },
  {
   "cell_type": "code",
   "execution_count": null,
   "id": "064c52eb-839c-475b-a786-e8f6c4f7e842",
   "metadata": {},
   "outputs": [],
   "source": []
  }
 ],
 "metadata": {
  "kernelspec": {
   "display_name": "Python 3 (ipykernel)",
   "language": "python",
   "name": "python3"
  },
  "language_info": {
   "codemirror_mode": {
    "name": "ipython",
    "version": 3
   },
   "file_extension": ".py",
   "mimetype": "text/x-python",
   "name": "python",
   "nbconvert_exporter": "python",
   "pygments_lexer": "ipython3",
   "version": "3.11.6"
  }
 },
 "nbformat": 4,
 "nbformat_minor": 5
}
