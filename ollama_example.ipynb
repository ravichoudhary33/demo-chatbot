{
 "cells": [
  {
   "cell_type": "code",
   "execution_count": 1,
   "id": "1133a405-969a-4279-aaa4-05f8b88fc562",
   "metadata": {},
   "outputs": [],
   "source": [
    "!pip install -q ollama"
   ]
  },
  {
   "cell_type": "code",
   "execution_count": 6,
   "id": "1152cc99-ea47-4b6f-be84-7f69e593cc62",
   "metadata": {},
   "outputs": [],
   "source": [
    "import ollama"
   ]
  },
  {
   "cell_type": "code",
   "execution_count": 7,
   "id": "077c27b9-71ac-4cfb-8da0-b47e3afd4fee",
   "metadata": {},
   "outputs": [],
   "source": [
    "ollama_client = ollama.Client(host='http://ollama:11434')"
   ]
  },
  {
   "cell_type": "code",
   "execution_count": 17,
   "id": "0c789937-c91f-4246-9eda-e9133c5de713",
   "metadata": {},
   "outputs": [],
   "source": [
    "stream_resp = ollama_client.chat(\n",
    "    model='phi:latest',\n",
    "    messages=[{'role': 'user', 'content': 'Why is the sky blue?'}],\n",
    "    stream=True,\n",
    ")"
   ]
  },
  {
   "cell_type": "code",
   "execution_count": 18,
   "id": "0ed791a9-a3fa-4b0f-82dd-08003f632050",
   "metadata": {},
   "outputs": [
    {
     "name": "stdout",
     "output_type": "stream",
     "text": [
      " The color of the sky appears blue due to a phenomenon called Rayleigh scattering. When sunlight enters Earth's atmosphere, it contains various colors of light at different wavelengths. However, shorter-wavelength blue light is scattered more than other colors because its energy is easily absorbed by air molecules. This means that blue light becomes more prevalent in all directions and reaches our eyes from every angle, giving the sky a blue appearance. Other factors such as clouds, pollution, and atmospheric conditions can also influence the color of the sky.\n"
     ]
    }
   ],
   "source": [
    "#test_txt = []\n",
    "full_response = \"\"\n",
    "for chunk in stream_resp:\n",
    "    msg = chunk['message']['content']\n",
    "    # full_response.append(msg)\n",
    "    full_response += msg\n",
    "    #print(full_response)\n",
    "    print(msg, end='', flush=True)\n",
    "    #test_txt.append(chunk['message']['content'])\n",
    "    #print(test_txt)\n",
    "    #print(chunk['message']['content'], end='', flush=True)"
   ]
  },
  {
   "cell_type": "code",
   "execution_count": 13,
   "id": "ce2f4036-f316-4a5a-af48-1f4da413db1d",
   "metadata": {},
   "outputs": [
    {
     "data": {
      "text/plain": [
       "\" The sky appears blue because of the way that sunlight interacts with particles in the Earth's atmosphere. Sunlight contains many different colors, but our eyes are most sensitive to blue light. When sunlight enters the Earth's atmosphere, it scatters off of tiny particles such as molecules and dust. Blue light is scattered more than other colors, which is why we see the sky as blue.\\n\""
      ]
     },
     "execution_count": 13,
     "metadata": {},
     "output_type": "execute_result"
    }
   ],
   "source": [
    "full_response"
   ]
  },
  {
   "cell_type": "code",
   "execution_count": null,
   "id": "18823087-9720-4fdb-9fda-4b1eac42ecf9",
   "metadata": {},
   "outputs": [],
   "source": []
  },
  {
   "cell_type": "code",
   "execution_count": 21,
   "id": "55254003-868a-4b08-9900-4ca64e7cf023",
   "metadata": {},
   "outputs": [
    {
     "name": "stdout",
     "output_type": "stream",
     "text": [
      "This is a long string that will be streamed character by character."
     ]
    }
   ],
   "source": [
    "import time\n",
    "\n",
    "string_to_stream = \"This is a long string that will be streamed character by character.\"\n",
    "for char in string_to_stream:\n",
    "    print(char, end='', flush=False)\n",
    "    time.sleep(0.1)  # Adjust the delay as needed"
   ]
  },
  {
   "cell_type": "code",
   "execution_count": 26,
   "id": "a65dda44-09e2-47fe-981d-922495799fc6",
   "metadata": {},
   "outputs": [],
   "source": [
    "t = []\n",
    "t.append('ravi')"
   ]
  },
  {
   "cell_type": "code",
   "execution_count": 27,
   "id": "f7716d4b-3b9d-4f56-b296-881f4502c76c",
   "metadata": {},
   "outputs": [],
   "source": [
    "t.append('kumar')"
   ]
  },
  {
   "cell_type": "code",
   "execution_count": 28,
   "id": "1c2311cd-f4fd-4043-81e1-c3344dba62b0",
   "metadata": {},
   "outputs": [
    {
     "data": {
      "text/plain": [
       "'kumar'"
      ]
     },
     "execution_count": 28,
     "metadata": {},
     "output_type": "execute_result"
    }
   ],
   "source": [
    "t.pop()"
   ]
  },
  {
   "cell_type": "code",
   "execution_count": 29,
   "id": "7054d737-2b84-4277-b578-2ba8faf044b1",
   "metadata": {},
   "outputs": [
    {
     "data": {
      "text/plain": [
       "['ravi']"
      ]
     },
     "execution_count": 29,
     "metadata": {},
     "output_type": "execute_result"
    }
   ],
   "source": [
    "t"
   ]
  },
  {
   "cell_type": "code",
   "execution_count": null,
   "id": "d354b524-8aea-4773-a1be-996d4bfe49b1",
   "metadata": {},
   "outputs": [],
   "source": []
  }
 ],
 "metadata": {
  "kernelspec": {
   "display_name": "Python 3 (ipykernel)",
   "language": "python",
   "name": "python3"
  },
  "language_info": {
   "codemirror_mode": {
    "name": "ipython",
    "version": 3
   },
   "file_extension": ".py",
   "mimetype": "text/x-python",
   "name": "python",
   "nbconvert_exporter": "python",
   "pygments_lexer": "ipython3",
   "version": "3.11.6"
  }
 },
 "nbformat": 4,
 "nbformat_minor": 5
}
