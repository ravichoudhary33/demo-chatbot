{
 "cells": [
  {
   "cell_type": "code",
   "execution_count": 1,
   "id": "7ec1c885-d43f-48ef-8dea-c49f7c166cd3",
   "metadata": {},
   "outputs": [
    {
     "name": "stdout",
     "output_type": "stream",
     "text": [
      "/home/jovyan/work\n"
     ]
    }
   ],
   "source": [
    "!pwd"
   ]
  },
  {
   "cell_type": "code",
   "execution_count": 2,
   "id": "9d9c932c-4cc7-42af-8df2-8c24e27e17e7",
   "metadata": {},
   "outputs": [],
   "source": [
    "!pip install -q -r ./vec_store/requirements.txt"
   ]
  },
  {
   "cell_type": "code",
   "execution_count": 3,
   "id": "846f0a0a-41a7-4314-bed4-afa990388fb7",
   "metadata": {},
   "outputs": [],
   "source": [
    "import ollama\n",
    "import chromadb\n",
    "from llama_index.core import SimpleDirectoryReader\n",
    "import concurrent.futures\n",
    "import asyncio\n",
    "import hashlib"
   ]
  },
  {
   "cell_type": "code",
   "execution_count": 4,
   "id": "4a984244-3a9a-4591-bb50-9d9039a5a15d",
   "metadata": {},
   "outputs": [],
   "source": [
    "MODEL = \"llama3.2:1b\" #\"llama3.1:8b\" \n",
    "MODEL_HASH = hashlib.sha256(MODEL.encode()).hexdigest()[-5:]\n",
    "COLLECTION_NAME = f\"docs_{MODEL_HASH}\""
   ]
  },
  {
   "cell_type": "code",
   "execution_count": 5,
   "id": "16ebe67d-3e0d-4c96-8557-239ce5fe9099",
   "metadata": {},
   "outputs": [
    {
     "data": {
      "text/plain": [
       "'docs_4158d'"
      ]
     },
     "execution_count": 5,
     "metadata": {},
     "output_type": "execute_result"
    }
   ],
   "source": [
    "COLLECTION_NAME"
   ]
  },
  {
   "cell_type": "code",
   "execution_count": 11,
   "id": "573bbe1d-2166-48a7-af0c-26a54579b940",
   "metadata": {},
   "outputs": [],
   "source": [
    "def pull_model(ollama_client, model=MODEL):\n",
    "    status = ollama_client.pull(model)\n",
    "    return status\n",
    "\n",
    "def process_document(doc, ollama_client, MODEL, collection):\n",
    "    doc_id = doc.id_\n",
    "    doc_text = doc.get_text()\n",
    "    doc_metadata = doc.metadata\n",
    "\n",
    "    response = ollama_client.embeddings(model=MODEL, prompt=doc_text)\n",
    "    embedding = response[\"embedding\"]\n",
    "\n",
    "    collection.add(\n",
    "        ids=[doc_id],\n",
    "        embeddings=[embedding],\n",
    "        documents=[doc_text],\n",
    "        metadatas=doc_metadata\n",
    "    )\n",
    "\n",
    "\n",
    "def create_collection_vecdb(chromadb_client, ollama_client, concurrency=True):\n",
    "\n",
    "    documents = SimpleDirectoryReader(\"./vec_store/data\").load_data()\n",
    "    try:\n",
    "        collection = chromadb_client.create_collection(name=COLLECTION_NAME)\n",
    "    except Exception as e:\n",
    "        chromadb_client.delete_collection(name=COLLECTION_NAME)\n",
    "        collection = chromadb_client.create_collection(name=COLLECTION_NAME)\n",
    "\n",
    "    if concurrency:\n",
    "        with concurrent.futures.ThreadPoolExecutor() as executor:\n",
    "            futures = [executor.submit(process_document, doc, ollama_client, MODEL, collection) for doc in documents]\n",
    "            for future in concurrent.futures.as_completed(futures):\n",
    "                future.result()  # Wait for the result to avoid exceptions\n",
    "    else:\n",
    "        # store each document in a vector embedding database\n",
    "        for i, doc in enumerate(documents):\n",
    "            # get the document id and text\n",
    "            doc_id = doc.id_\n",
    "            doc_text = doc.get_text()\n",
    "            doc_metadata = doc.metadata\n",
    "        \n",
    "            response = ollama_client.embeddings(model=MODEL, prompt=doc_text)\n",
    "            embedding = response[\"embedding\"]\n",
    "            collection.add(\n",
    "                ids=[doc_id],\n",
    "                embeddings=[embedding],\n",
    "                documents=[doc_text],\n",
    "                metadatas=doc_metadata\n",
    "            )"
   ]
  },
  {
   "cell_type": "code",
   "execution_count": 7,
   "id": "57214688-3f6c-4583-998a-f71c4608775a",
   "metadata": {},
   "outputs": [],
   "source": [
    "chromadb_client = chromadb.HttpClient(host=\"chromadb-vecdb\", port=8000)\n",
    "ollama_client = ollama.Client(host='http://ollama:11434')"
   ]
  },
  {
   "cell_type": "code",
   "execution_count": 8,
   "id": "df588c8b-a038-4bc8-9759-443e31eec647",
   "metadata": {},
   "outputs": [],
   "source": [
    "# first pull the model\n",
    "pull_model_resp = pull_model(model=MODEL, ollama_client=ollama_client)"
   ]
  },
  {
   "cell_type": "code",
   "execution_count": 9,
   "id": "47f9bdaf-2562-4c1d-af26-e130221f4a13",
   "metadata": {},
   "outputs": [
    {
     "data": {
      "text/plain": [
       "{'status': 'success'}"
      ]
     },
     "execution_count": 9,
     "metadata": {},
     "output_type": "execute_result"
    }
   ],
   "source": [
    "pull_model_resp"
   ]
  },
  {
   "cell_type": "code",
   "execution_count": 12,
   "id": "6b87b3e0-4d73-43c1-987e-977aa0701af6",
   "metadata": {},
   "outputs": [],
   "source": [
    "if pull_model_resp['status'] == 'success':\n",
    "    create_collection_vecdb(chromadb_client, ollama_client)"
   ]
  },
  {
   "cell_type": "code",
   "execution_count": 13,
   "id": "d92d3db2-e426-46fa-af00-1906c176af48",
   "metadata": {},
   "outputs": [
    {
     "data": {
      "text/plain": [
       "Collection(id=ea1b8700-f63c-423e-87de-f0f920d74384, name=docs_4158d)"
      ]
     },
     "execution_count": 13,
     "metadata": {},
     "output_type": "execute_result"
    }
   ],
   "source": [
    "chromadb_client.get_collection(COLLECTION_NAME)"
   ]
  },
  {
   "cell_type": "code",
   "execution_count": null,
   "id": "907df2bc-eb13-48b7-a2df-d7c0bde77a2a",
   "metadata": {},
   "outputs": [],
   "source": []
  }
 ],
 "metadata": {
  "kernelspec": {
   "display_name": "Python 3 (ipykernel)",
   "language": "python",
   "name": "python3"
  },
  "language_info": {
   "codemirror_mode": {
    "name": "ipython",
    "version": 3
   },
   "file_extension": ".py",
   "mimetype": "text/x-python",
   "name": "python",
   "nbconvert_exporter": "python",
   "pygments_lexer": "ipython3",
   "version": "3.11.6"
  }
 },
 "nbformat": 4,
 "nbformat_minor": 5
}
